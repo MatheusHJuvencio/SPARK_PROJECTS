{
 "cells": [
  {
   "cell_type": "markdown",
   "metadata": {
    "id": "-1O4Vq9G-0L6"
   },
   "source": [
    "**Inicializando Spark**"
   ]
  },
  {
   "cell_type": "code",
   "execution_count": null,
   "metadata": {
    "id": "9Ven_JIr2EjG"
   },
   "outputs": [],
   "source": [
    "# instalar as dependências\n",
    "!apt-get update -qq\n",
    "!apt-get install openjdk-8-jdk-headless -qq > /dev/null\n",
    "!wget -q https://archive.apache.org/dist/spark/spark-3.1.2/spark-3.1.2-bin-hadoop2.7.tgz\n",
    "!tar xf spark-3.1.2-bin-hadoop2.7.tgz\n",
    "!pip install -q findspark"
   ]
  },
  {
   "cell_type": "code",
   "execution_count": null,
   "metadata": {
    "id": "VdOGPZ8wCjMw"
   },
   "outputs": [],
   "source": [
    "import os\n",
    "os.environ[\"JAVA_HOME\"] = \"/usr/lib/jvm/java-8-openjdk-amd64\"\n",
    "os.environ[\"SPARK_HOME\"] = \"/content/spark-3.1.2-bin-hadoop2.7\""
   ]
  },
  {
   "cell_type": "code",
   "execution_count": null,
   "metadata": {
    "id": "6_wtij0hCvfM"
   },
   "outputs": [],
   "source": [
    "import findspark\n",
    "findspark.init()"
   ]
  },
  {
   "cell_type": "markdown",
   "metadata": {
    "id": "HuN3vE3Z_atI"
   },
   "source": [
    "**Spark Session - Acessando Spark UI (Google Colab)**"
   ]
  },
  {
   "cell_type": "code",
   "execution_count": null,
   "metadata": {
    "id": "BjHEVQv02TNF"
   },
   "outputs": [],
   "source": [
    "from pyspark.sql import SparkSession\n",
    "\n",
    "spark = SparkSession.builder \\\n",
    "  .master('local[*]') \\\n",
    "  .appName ('Iniciando com Spark') \\\n",
    "  .config('spark.ui.port', '4050') \\\n",
    "  .getOrCreate()"
   ]
  },
  {
   "cell_type": "code",
   "execution_count": null,
   "metadata": {
    "colab": {
     "base_uri": "https://localhost:8080/"
    },
    "id": "ELNGz_Va_Kho",
    "outputId": "2eb37fe1-f28e-4d0a-ef77-723e5c95a0f3"
   },
   "outputs": [
    {
     "name": "stdout",
     "output_type": "stream",
     "text": [
      "Archive:  ngrok-stable-linux-amd64.zip\n",
      "  inflating: ngrok                   \n"
     ]
    }
   ],
   "source": [
    "!wget -q https://bin.equinox.io/c/4VmDzA7iaHb/ngrok-stable-linux-amd64.zip\n",
    "!unzip ngrok-stable-linux-amd64.zip"
   ]
  },
  {
   "cell_type": "code",
   "execution_count": null,
   "metadata": {
    "id": "xsPac8E0D6-A"
   },
   "outputs": [],
   "source": [
    "get_ipython().system_raw('./ngrok authtoken INSIRA SEU TOKEN')\n",
    "get_ipython().system_raw('./ngrok http 4050 &')"
   ]
  },
  {
   "cell_type": "code",
   "execution_count": null,
   "metadata": {
    "colab": {
     "base_uri": "https://localhost:8080/"
    },
    "id": "94sgiblKEF2w",
    "outputId": "dcb29c25-577e-47a4-ab3a-382e6cf79ef8"
   },
   "outputs": [
    {
     "name": "stdout",
     "output_type": "stream",
     "text": [
      "{\"tunnels\":[],\"uri\":\"/api/tunnels\"}\n"
     ]
    }
   ],
   "source": [
    "!curl -s http://localhost:4040/api/tunnels"
   ]
  },
  {
   "cell_type": "code",
   "execution_count": null,
   "metadata": {
    "colab": {
     "base_uri": "https://localhost:8080/",
     "height": 219
    },
    "id": "NLhMjVwDEypK",
    "outputId": "262db2a8-f93c-4651-b0a7-a12ed468b411"
   },
   "outputs": [
    {
     "data": {
      "text/html": [
       "\n",
       "            <div>\n",
       "                <p><b>SparkSession - in-memory</b></p>\n",
       "                \n",
       "        <div>\n",
       "            <p><b>SparkContext</b></p>\n",
       "\n",
       "            <p><a href=\"http://e0ca74844d64:4050\">Spark UI</a></p>\n",
       "\n",
       "            <dl>\n",
       "              <dt>Version</dt>\n",
       "                <dd><code>v3.1.2</code></dd>\n",
       "              <dt>Master</dt>\n",
       "                <dd><code>local[*]</code></dd>\n",
       "              <dt>AppName</dt>\n",
       "                <dd><code>Iniciando com Spark</code></dd>\n",
       "            </dl>\n",
       "        </div>\n",
       "        \n",
       "            </div>\n",
       "        "
      ],
      "text/plain": [
       "<pyspark.sql.session.SparkSession at 0x7f8fb60b8820>"
      ]
     },
     "execution_count": 8,
     "metadata": {},
     "output_type": "execute_result"
    }
   ],
   "source": [
    "spark"
   ]
  },
  {
   "cell_type": "code",
   "execution_count": null,
   "metadata": {
    "colab": {
     "base_uri": "https://localhost:8080/"
    },
    "id": "l4Mx7LrsQQx3",
    "outputId": "f17c3e30-ad4a-49d7-c848-802164e65931"
   },
   "outputs": [
    {
     "name": "stdout",
     "output_type": "stream",
     "text": [
      "+-------+-----+\n",
      "|   Nome|Idade|\n",
      "+-------+-----+\n",
      "|Matheus|   30|\n",
      "|Dayhara|   28|\n",
      "|Jessica|   33|\n",
      "|  Jeova|   60|\n",
      "+-------+-----+\n",
      "\n"
     ]
    }
   ],
   "source": [
    "# exemplo criar DF\n",
    "data = [('Matheus','30'), ('Dayhara', '28'), ('Jessica','33'),('Jeova', '60')] #tem que ser lista com tuplas\n",
    "colNames = ['Nome', 'Idade']\n",
    "df = spark.createDataFrame(data, colNames)\n",
    "df\n",
    "df.show()"
   ]
  },
  {
   "cell_type": "code",
   "execution_count": null,
   "metadata": {
    "colab": {
     "base_uri": "https://localhost:8080/",
     "height": 175
    },
    "id": "yyuBAzEgQ1RU",
    "outputId": "32dac2ed-9462-4de2-a7dd-58d21e4fda3b"
   },
   "outputs": [
    {
     "data": {
      "text/html": [
       "\n",
       "  <div id=\"df-37b784a0-165f-4e57-82ca-670e960dbfe3\">\n",
       "    <div class=\"colab-df-container\">\n",
       "      <div>\n",
       "<style scoped>\n",
       "    .dataframe tbody tr th:only-of-type {\n",
       "        vertical-align: middle;\n",
       "    }\n",
       "\n",
       "    .dataframe tbody tr th {\n",
       "        vertical-align: top;\n",
       "    }\n",
       "\n",
       "    .dataframe thead th {\n",
       "        text-align: right;\n",
       "    }\n",
       "</style>\n",
       "<table border=\"1\" class=\"dataframe\">\n",
       "  <thead>\n",
       "    <tr style=\"text-align: right;\">\n",
       "      <th></th>\n",
       "      <th>Nome</th>\n",
       "      <th>Idade</th>\n",
       "    </tr>\n",
       "  </thead>\n",
       "  <tbody>\n",
       "    <tr>\n",
       "      <th>0</th>\n",
       "      <td>Matheus</td>\n",
       "      <td>30</td>\n",
       "    </tr>\n",
       "    <tr>\n",
       "      <th>1</th>\n",
       "      <td>Dayhara</td>\n",
       "      <td>28</td>\n",
       "    </tr>\n",
       "    <tr>\n",
       "      <th>2</th>\n",
       "      <td>Jessica</td>\n",
       "      <td>33</td>\n",
       "    </tr>\n",
       "    <tr>\n",
       "      <th>3</th>\n",
       "      <td>Jeova</td>\n",
       "      <td>60</td>\n",
       "    </tr>\n",
       "  </tbody>\n",
       "</table>\n",
       "</div>\n",
       "      <button class=\"colab-df-convert\" onclick=\"convertToInteractive('df-37b784a0-165f-4e57-82ca-670e960dbfe3')\"\n",
       "              title=\"Convert this dataframe to an interactive table.\"\n",
       "              style=\"display:none;\">\n",
       "        \n",
       "  <svg xmlns=\"http://www.w3.org/2000/svg\" height=\"24px\"viewBox=\"0 0 24 24\"\n",
       "       width=\"24px\">\n",
       "    <path d=\"M0 0h24v24H0V0z\" fill=\"none\"/>\n",
       "    <path d=\"M18.56 5.44l.94 2.06.94-2.06 2.06-.94-2.06-.94-.94-2.06-.94 2.06-2.06.94zm-11 1L8.5 8.5l.94-2.06 2.06-.94-2.06-.94L8.5 2.5l-.94 2.06-2.06.94zm10 10l.94 2.06.94-2.06 2.06-.94-2.06-.94-.94-2.06-.94 2.06-2.06.94z\"/><path d=\"M17.41 7.96l-1.37-1.37c-.4-.4-.92-.59-1.43-.59-.52 0-1.04.2-1.43.59L10.3 9.45l-7.72 7.72c-.78.78-.78 2.05 0 2.83L4 21.41c.39.39.9.59 1.41.59.51 0 1.02-.2 1.41-.59l7.78-7.78 2.81-2.81c.8-.78.8-2.07 0-2.86zM5.41 20L4 18.59l7.72-7.72 1.47 1.35L5.41 20z\"/>\n",
       "  </svg>\n",
       "      </button>\n",
       "      \n",
       "  <style>\n",
       "    .colab-df-container {\n",
       "      display:flex;\n",
       "      flex-wrap:wrap;\n",
       "      gap: 12px;\n",
       "    }\n",
       "\n",
       "    .colab-df-convert {\n",
       "      background-color: #E8F0FE;\n",
       "      border: none;\n",
       "      border-radius: 50%;\n",
       "      cursor: pointer;\n",
       "      display: none;\n",
       "      fill: #1967D2;\n",
       "      height: 32px;\n",
       "      padding: 0 0 0 0;\n",
       "      width: 32px;\n",
       "    }\n",
       "\n",
       "    .colab-df-convert:hover {\n",
       "      background-color: #E2EBFA;\n",
       "      box-shadow: 0px 1px 2px rgba(60, 64, 67, 0.3), 0px 1px 3px 1px rgba(60, 64, 67, 0.15);\n",
       "      fill: #174EA6;\n",
       "    }\n",
       "\n",
       "    [theme=dark] .colab-df-convert {\n",
       "      background-color: #3B4455;\n",
       "      fill: #D2E3FC;\n",
       "    }\n",
       "\n",
       "    [theme=dark] .colab-df-convert:hover {\n",
       "      background-color: #434B5C;\n",
       "      box-shadow: 0px 1px 3px 1px rgba(0, 0, 0, 0.15);\n",
       "      filter: drop-shadow(0px 1px 2px rgba(0, 0, 0, 0.3));\n",
       "      fill: #FFFFFF;\n",
       "    }\n",
       "  </style>\n",
       "\n",
       "      <script>\n",
       "        const buttonEl =\n",
       "          document.querySelector('#df-37b784a0-165f-4e57-82ca-670e960dbfe3 button.colab-df-convert');\n",
       "        buttonEl.style.display =\n",
       "          google.colab.kernel.accessAllowed ? 'block' : 'none';\n",
       "\n",
       "        async function convertToInteractive(key) {\n",
       "          const element = document.querySelector('#df-37b784a0-165f-4e57-82ca-670e960dbfe3');\n",
       "          const dataTable =\n",
       "            await google.colab.kernel.invokeFunction('convertToInteractive',\n",
       "                                                     [key], {});\n",
       "          if (!dataTable) return;\n",
       "\n",
       "          const docLinkHtml = 'Like what you see? Visit the ' +\n",
       "            '<a target=\"_blank\" href=https://colab.research.google.com/notebooks/data_table.ipynb>data table notebook</a>'\n",
       "            + ' to learn more about interactive tables.';\n",
       "          element.innerHTML = '';\n",
       "          dataTable['output_type'] = 'display_data';\n",
       "          await google.colab.output.renderOutput(dataTable, element);\n",
       "          const docLink = document.createElement('div');\n",
       "          docLink.innerHTML = docLinkHtml;\n",
       "          element.appendChild(docLink);\n",
       "        }\n",
       "      </script>\n",
       "    </div>\n",
       "  </div>\n",
       "  "
      ],
      "text/plain": [
       "      Nome Idade\n",
       "0  Matheus    30\n",
       "1  Dayhara    28\n",
       "2  Jessica    33\n",
       "3    Jeova    60"
      ]
     },
     "execution_count": 10,
     "metadata": {},
     "output_type": "execute_result"
    }
   ],
   "source": [
    "df.toPandas()"
   ]
  },
  {
   "cell_type": "markdown",
   "metadata": {
    "id": "9e6pSLv7SD13"
   },
   "source": [
    "**Montando um Drive**"
   ]
  },
  {
   "cell_type": "code",
   "execution_count": null,
   "metadata": {
    "colab": {
     "base_uri": "https://localhost:8080/"
    },
    "id": "DGTXdaolSFIt",
    "outputId": "421b6097-ada6-4d90-c5fe-1b125a1e0f16"
   },
   "outputs": [
    {
     "name": "stdout",
     "output_type": "stream",
     "text": [
      "Mounted at /content/drive\n"
     ]
    }
   ],
   "source": [
    "from google.colab import drive\n",
    "drive.mount('/content/drive')"
   ]
  },
  {
   "cell_type": "markdown",
   "metadata": {},
   "source": [
    "**Os dados estão disponivel no site da Receita Federal**"
   ]
  },
  {
   "cell_type": "markdown",
   "metadata": {
    "id": "-uZ5hqfKTa4x"
   },
   "source": [
    "**Carregando os dados das empresas**"
   ]
  },
  {
   "cell_type": "code",
   "execution_count": null,
   "metadata": {
    "id": "O1cZ5ZCrSKS_"
   },
   "outputs": [],
   "source": [
    "import zipfile"
   ]
  },
  {
   "cell_type": "code",
   "execution_count": null,
   "metadata": {
    "id": "emsJb4umTiM6"
   },
   "outputs": [],
   "source": [
    "zipfile.ZipFile('/content/drive/MyDrive/Colab Notebooks/CURSO_SPARK/empresas.zip','r').extractall('/content/drive/MyDrive/Colab Notebooks/CURSO_SPARK')"
   ]
  },
  {
   "cell_type": "code",
   "execution_count": null,
   "metadata": {
    "id": "7BSf7wO3WlWV"
   },
   "outputs": [],
   "source": [
    "path = '/content/drive/MyDrive/Colab Notebooks/CURSO_SPARK/empresas'\n",
    "empresas = spark.read.csv(path, sep = ';', inferSchema=True)"
   ]
  },
  {
   "cell_type": "markdown",
   "metadata": {
    "id": "zsfRUpg4Xk0t"
   },
   "source": [
    "**Carregando para socios e estabelecimentos**"
   ]
  },
  {
   "cell_type": "code",
   "execution_count": null,
   "metadata": {
    "id": "DmeRzpv_Xnl4"
   },
   "outputs": [],
   "source": [
    "#socios\n",
    "zipfile.ZipFile('/content/drive/MyDrive/Colab Notebooks/CURSO_SPARK/socios.zip').extractall('/content/drive/MyDrive/Colab Notebooks/CURSO_SPARK')\n",
    "path_socios = '/content/drive/MyDrive/Colab Notebooks/CURSO_SPARK/socios'\n",
    "socios = spark.read.csv(path_socios, sep = ';', inferSchema = True)"
   ]
  },
  {
   "cell_type": "code",
   "execution_count": null,
   "metadata": {
    "id": "GbSexa_fYKUn"
   },
   "outputs": [],
   "source": [
    "#estabelecimentos\n",
    "zipfile.ZipFile('/content/drive/MyDrive/Colab Notebooks/CURSO_SPARK/estabelecimentos.zip').extractall('/content/drive/MyDrive/Colab Notebooks/CURSO_SPARK')\n",
    "path_estabelecimentos = '/content/drive/MyDrive/Colab Notebooks/CURSO_SPARK/estabelecimentos'\n",
    "estabelecimentos = spark.read.csv(path_estabelecimentos, sep = ';', inferSchema = True)"
   ]
  },
  {
   "cell_type": "markdown",
   "metadata": {
    "id": "HQkvFLiZapdZ"
   },
   "source": [
    "**Manipulando os Dados**"
   ]
  },
  {
   "cell_type": "code",
   "execution_count": null,
   "metadata": {
    "id": "mfe1ShqEaq1u"
   },
   "outputs": [],
   "source": [
    "empresas.limit(5).toPandas() #visualisar 5 primeiros registros do df\n",
    "empresasColNames = ['cnpj_basico', 'razao_social_nome_empresarial', 'natureza_juridica', 'qualificacao_do_responsavel', 'capital_social_da_empresa', 'porte_da_empresa', 'ente_federativo_responsavel']\n"
   ]
  },
  {
   "cell_type": "code",
   "execution_count": null,
   "metadata": {
    "colab": {
     "base_uri": "https://localhost:8080/"
    },
    "id": "aXzYWVkja3Y5",
    "outputId": "c642116f-5d78-4f16-8c91-8f03fdbb6f9b"
   },
   "outputs": [
    {
     "data": {
      "text/plain": [
       "['cnpj_basico',\n",
       " 'razao_social_nome_empresarial',\n",
       " 'natureza_juridica',\n",
       " 'qualificacao_do_responsavel',\n",
       " 'capital_social_da_empresa',\n",
       " 'porte_da_empresa',\n",
       " 'ente_federativo_responsavel']"
      ]
     },
     "execution_count": 18,
     "metadata": {},
     "output_type": "execute_result"
    }
   ],
   "source": [
    "for index, colName in enumerate(empresasColNames):\n",
    "  empresas = empresas.withColumnRenamed(f\"_c{index}\", colName)\n",
    "\n",
    "empresas.columns"
   ]
  },
  {
   "cell_type": "code",
   "execution_count": null,
   "metadata": {
    "colab": {
     "base_uri": "https://localhost:8080/",
     "height": 322
    },
    "id": "bnCIvnrNc3ut",
    "outputId": "5867f524-d1d9-4237-f858-de3122e3ef33"
   },
   "outputs": [
    {
     "data": {
      "text/html": [
       "\n",
       "  <div id=\"df-140ba2d6-0615-4062-bbba-79f5d040bdf1\">\n",
       "    <div class=\"colab-df-container\">\n",
       "      <div>\n",
       "<style scoped>\n",
       "    .dataframe tbody tr th:only-of-type {\n",
       "        vertical-align: middle;\n",
       "    }\n",
       "\n",
       "    .dataframe tbody tr th {\n",
       "        vertical-align: top;\n",
       "    }\n",
       "\n",
       "    .dataframe thead th {\n",
       "        text-align: right;\n",
       "    }\n",
       "</style>\n",
       "<table border=\"1\" class=\"dataframe\">\n",
       "  <thead>\n",
       "    <tr style=\"text-align: right;\">\n",
       "      <th></th>\n",
       "      <th>cnpj_basico</th>\n",
       "      <th>razao_social_nome_empresarial</th>\n",
       "      <th>natureza_juridica</th>\n",
       "      <th>qualificacao_do_responsavel</th>\n",
       "      <th>capital_social_da_empresa</th>\n",
       "      <th>porte_da_empresa</th>\n",
       "      <th>ente_federativo_responsavel</th>\n",
       "    </tr>\n",
       "  </thead>\n",
       "  <tbody>\n",
       "    <tr>\n",
       "      <th>0</th>\n",
       "      <td>306</td>\n",
       "      <td>FRANCAMAR REFRIGERACAO TECNICA S/C LTDA</td>\n",
       "      <td>2240</td>\n",
       "      <td>49</td>\n",
       "      <td>0,00</td>\n",
       "      <td>1</td>\n",
       "      <td>None</td>\n",
       "    </tr>\n",
       "    <tr>\n",
       "      <th>1</th>\n",
       "      <td>1355</td>\n",
       "      <td>BRASILEIRO &amp; OLIVEIRA LTDA</td>\n",
       "      <td>2062</td>\n",
       "      <td>49</td>\n",
       "      <td>0,00</td>\n",
       "      <td>5</td>\n",
       "      <td>None</td>\n",
       "    </tr>\n",
       "    <tr>\n",
       "      <th>2</th>\n",
       "      <td>4820</td>\n",
       "      <td>REGISTRO DE IMOVEIS, TABELIONATO 1 DE NOTAS E ...</td>\n",
       "      <td>3034</td>\n",
       "      <td>32</td>\n",
       "      <td>0,00</td>\n",
       "      <td>5</td>\n",
       "      <td>None</td>\n",
       "    </tr>\n",
       "    <tr>\n",
       "      <th>3</th>\n",
       "      <td>5347</td>\n",
       "      <td>ROSELY APARECIDA MONTEIRO CALTABIANO FREITAS</td>\n",
       "      <td>2135</td>\n",
       "      <td>50</td>\n",
       "      <td>0,00</td>\n",
       "      <td>5</td>\n",
       "      <td>None</td>\n",
       "    </tr>\n",
       "    <tr>\n",
       "      <th>4</th>\n",
       "      <td>6846</td>\n",
       "      <td>BADU E FILHOS TECIDOS LTDA</td>\n",
       "      <td>2062</td>\n",
       "      <td>49</td>\n",
       "      <td>4000,00</td>\n",
       "      <td>1</td>\n",
       "      <td>None</td>\n",
       "    </tr>\n",
       "  </tbody>\n",
       "</table>\n",
       "</div>\n",
       "      <button class=\"colab-df-convert\" onclick=\"convertToInteractive('df-140ba2d6-0615-4062-bbba-79f5d040bdf1')\"\n",
       "              title=\"Convert this dataframe to an interactive table.\"\n",
       "              style=\"display:none;\">\n",
       "        \n",
       "  <svg xmlns=\"http://www.w3.org/2000/svg\" height=\"24px\"viewBox=\"0 0 24 24\"\n",
       "       width=\"24px\">\n",
       "    <path d=\"M0 0h24v24H0V0z\" fill=\"none\"/>\n",
       "    <path d=\"M18.56 5.44l.94 2.06.94-2.06 2.06-.94-2.06-.94-.94-2.06-.94 2.06-2.06.94zm-11 1L8.5 8.5l.94-2.06 2.06-.94-2.06-.94L8.5 2.5l-.94 2.06-2.06.94zm10 10l.94 2.06.94-2.06 2.06-.94-2.06-.94-.94-2.06-.94 2.06-2.06.94z\"/><path d=\"M17.41 7.96l-1.37-1.37c-.4-.4-.92-.59-1.43-.59-.52 0-1.04.2-1.43.59L10.3 9.45l-7.72 7.72c-.78.78-.78 2.05 0 2.83L4 21.41c.39.39.9.59 1.41.59.51 0 1.02-.2 1.41-.59l7.78-7.78 2.81-2.81c.8-.78.8-2.07 0-2.86zM5.41 20L4 18.59l7.72-7.72 1.47 1.35L5.41 20z\"/>\n",
       "  </svg>\n",
       "      </button>\n",
       "      \n",
       "  <style>\n",
       "    .colab-df-container {\n",
       "      display:flex;\n",
       "      flex-wrap:wrap;\n",
       "      gap: 12px;\n",
       "    }\n",
       "\n",
       "    .colab-df-convert {\n",
       "      background-color: #E8F0FE;\n",
       "      border: none;\n",
       "      border-radius: 50%;\n",
       "      cursor: pointer;\n",
       "      display: none;\n",
       "      fill: #1967D2;\n",
       "      height: 32px;\n",
       "      padding: 0 0 0 0;\n",
       "      width: 32px;\n",
       "    }\n",
       "\n",
       "    .colab-df-convert:hover {\n",
       "      background-color: #E2EBFA;\n",
       "      box-shadow: 0px 1px 2px rgba(60, 64, 67, 0.3), 0px 1px 3px 1px rgba(60, 64, 67, 0.15);\n",
       "      fill: #174EA6;\n",
       "    }\n",
       "\n",
       "    [theme=dark] .colab-df-convert {\n",
       "      background-color: #3B4455;\n",
       "      fill: #D2E3FC;\n",
       "    }\n",
       "\n",
       "    [theme=dark] .colab-df-convert:hover {\n",
       "      background-color: #434B5C;\n",
       "      box-shadow: 0px 1px 3px 1px rgba(0, 0, 0, 0.15);\n",
       "      filter: drop-shadow(0px 1px 2px rgba(0, 0, 0, 0.3));\n",
       "      fill: #FFFFFF;\n",
       "    }\n",
       "  </style>\n",
       "\n",
       "      <script>\n",
       "        const buttonEl =\n",
       "          document.querySelector('#df-140ba2d6-0615-4062-bbba-79f5d040bdf1 button.colab-df-convert');\n",
       "        buttonEl.style.display =\n",
       "          google.colab.kernel.accessAllowed ? 'block' : 'none';\n",
       "\n",
       "        async function convertToInteractive(key) {\n",
       "          const element = document.querySelector('#df-140ba2d6-0615-4062-bbba-79f5d040bdf1');\n",
       "          const dataTable =\n",
       "            await google.colab.kernel.invokeFunction('convertToInteractive',\n",
       "                                                     [key], {});\n",
       "          if (!dataTable) return;\n",
       "\n",
       "          const docLinkHtml = 'Like what you see? Visit the ' +\n",
       "            '<a target=\"_blank\" href=https://colab.research.google.com/notebooks/data_table.ipynb>data table notebook</a>'\n",
       "            + ' to learn more about interactive tables.';\n",
       "          element.innerHTML = '';\n",
       "          dataTable['output_type'] = 'display_data';\n",
       "          await google.colab.output.renderOutput(dataTable, element);\n",
       "          const docLink = document.createElement('div');\n",
       "          docLink.innerHTML = docLinkHtml;\n",
       "          element.appendChild(docLink);\n",
       "        }\n",
       "      </script>\n",
       "    </div>\n",
       "  </div>\n",
       "  "
      ],
      "text/plain": [
       "   cnpj_basico                      razao_social_nome_empresarial  \\\n",
       "0          306            FRANCAMAR REFRIGERACAO TECNICA S/C LTDA   \n",
       "1         1355                         BRASILEIRO & OLIVEIRA LTDA   \n",
       "2         4820  REGISTRO DE IMOVEIS, TABELIONATO 1 DE NOTAS E ...   \n",
       "3         5347       ROSELY APARECIDA MONTEIRO CALTABIANO FREITAS   \n",
       "4         6846                         BADU E FILHOS TECIDOS LTDA   \n",
       "\n",
       "   natureza_juridica  qualificacao_do_responsavel capital_social_da_empresa  \\\n",
       "0               2240                           49                      0,00   \n",
       "1               2062                           49                      0,00   \n",
       "2               3034                           32                      0,00   \n",
       "3               2135                           50                      0,00   \n",
       "4               2062                           49                   4000,00   \n",
       "\n",
       "   porte_da_empresa ente_federativo_responsavel  \n",
       "0                 1                        None  \n",
       "1                 5                        None  \n",
       "2                 5                        None  \n",
       "3                 5                        None  \n",
       "4                 1                        None  "
      ]
     },
     "execution_count": 19,
     "metadata": {},
     "output_type": "execute_result"
    }
   ],
   "source": [
    "empresas.limit(5).toPandas() "
   ]
  },
  {
   "cell_type": "code",
   "execution_count": null,
   "metadata": {
    "id": "x74QSZ1ec-0z"
   },
   "outputs": [],
   "source": [
    "socios.limit(5).toPandas()\n",
    "sociosColNames = ['cnpj_basico', 'identificador_de_socio', 'nome_do_socio_ou_razao_social', 'cnpj_ou_cpf_do_socio', 'qualificacao_do_socio', 'data_de_entrada_sociedade', 'pais', 'representante_legal', 'nome_do_representante', 'qualificacao_do_representante_legal', 'faixa_etaria']"
   ]
  },
  {
   "cell_type": "code",
   "execution_count": null,
   "metadata": {
    "colab": {
     "base_uri": "https://localhost:8080/"
    },
    "id": "IX0N9GKUdEE2",
    "outputId": "811a6d9b-84a6-4991-f923-3e4c8d7849dc"
   },
   "outputs": [
    {
     "data": {
      "text/plain": [
       "['cnpj_basico',\n",
       " 'identificador_de_socio',\n",
       " 'nome_do_socio_ou_razao_social',\n",
       " 'cnpj_ou_cpf_do_socio',\n",
       " 'qualificacao_do_socio',\n",
       " 'data_de_entrada_sociedade',\n",
       " 'pais',\n",
       " 'representante_legal',\n",
       " 'nome_do_representante',\n",
       " 'qualificacao_do_representante_legal',\n",
       " 'faixa_etaria']"
      ]
     },
     "execution_count": 21,
     "metadata": {},
     "output_type": "execute_result"
    }
   ],
   "source": [
    "for index, colName in enumerate(sociosColNames):\n",
    "  socios = socios.withColumnRenamed(f\"_c{index}\", colName)\n",
    "socios.columns"
   ]
  },
  {
   "cell_type": "code",
   "execution_count": null,
   "metadata": {
    "colab": {
     "base_uri": "https://localhost:8080/",
     "height": 305
    },
    "id": "0UPFaBUidXac",
    "outputId": "80cfff82-644f-46d8-a1fe-925e6c981833"
   },
   "outputs": [
    {
     "data": {
      "text/html": [
       "\n",
       "  <div id=\"df-fc11c8b6-3de3-4926-9a1c-9bc8bdb14a86\">\n",
       "    <div class=\"colab-df-container\">\n",
       "      <div>\n",
       "<style scoped>\n",
       "    .dataframe tbody tr th:only-of-type {\n",
       "        vertical-align: middle;\n",
       "    }\n",
       "\n",
       "    .dataframe tbody tr th {\n",
       "        vertical-align: top;\n",
       "    }\n",
       "\n",
       "    .dataframe thead th {\n",
       "        text-align: right;\n",
       "    }\n",
       "</style>\n",
       "<table border=\"1\" class=\"dataframe\">\n",
       "  <thead>\n",
       "    <tr style=\"text-align: right;\">\n",
       "      <th></th>\n",
       "      <th>cnpj_basico</th>\n",
       "      <th>identificador_de_socio</th>\n",
       "      <th>nome_do_socio_ou_razao_social</th>\n",
       "      <th>cnpj_ou_cpf_do_socio</th>\n",
       "      <th>qualificacao_do_socio</th>\n",
       "      <th>data_de_entrada_sociedade</th>\n",
       "      <th>pais</th>\n",
       "      <th>representante_legal</th>\n",
       "      <th>nome_do_representante</th>\n",
       "      <th>qualificacao_do_representante_legal</th>\n",
       "      <th>faixa_etaria</th>\n",
       "    </tr>\n",
       "  </thead>\n",
       "  <tbody>\n",
       "    <tr>\n",
       "      <th>0</th>\n",
       "      <td>411</td>\n",
       "      <td>2</td>\n",
       "      <td>LILIANA PATRICIA GUASTAVINO</td>\n",
       "      <td>***678188**</td>\n",
       "      <td>22</td>\n",
       "      <td>19940725</td>\n",
       "      <td>NaN</td>\n",
       "      <td>***000000**</td>\n",
       "      <td>None</td>\n",
       "      <td>0</td>\n",
       "      <td>7</td>\n",
       "    </tr>\n",
       "    <tr>\n",
       "      <th>1</th>\n",
       "      <td>411</td>\n",
       "      <td>2</td>\n",
       "      <td>CRISTINA HUNDERTMARK</td>\n",
       "      <td>***637848**</td>\n",
       "      <td>28</td>\n",
       "      <td>19940725</td>\n",
       "      <td>NaN</td>\n",
       "      <td>***000000**</td>\n",
       "      <td>None</td>\n",
       "      <td>0</td>\n",
       "      <td>7</td>\n",
       "    </tr>\n",
       "    <tr>\n",
       "      <th>2</th>\n",
       "      <td>5813</td>\n",
       "      <td>2</td>\n",
       "      <td>CELSO EDUARDO DE CASTRO STEPHAN</td>\n",
       "      <td>***786068**</td>\n",
       "      <td>49</td>\n",
       "      <td>19940516</td>\n",
       "      <td>NaN</td>\n",
       "      <td>***000000**</td>\n",
       "      <td>None</td>\n",
       "      <td>0</td>\n",
       "      <td>8</td>\n",
       "    </tr>\n",
       "    <tr>\n",
       "      <th>3</th>\n",
       "      <td>5813</td>\n",
       "      <td>2</td>\n",
       "      <td>EDUARDO BERRINGER STEPHAN</td>\n",
       "      <td>***442348**</td>\n",
       "      <td>49</td>\n",
       "      <td>19940516</td>\n",
       "      <td>NaN</td>\n",
       "      <td>***000000**</td>\n",
       "      <td>None</td>\n",
       "      <td>0</td>\n",
       "      <td>5</td>\n",
       "    </tr>\n",
       "    <tr>\n",
       "      <th>4</th>\n",
       "      <td>14798</td>\n",
       "      <td>2</td>\n",
       "      <td>HANNE MAHFOUD FADEL</td>\n",
       "      <td>***760388**</td>\n",
       "      <td>49</td>\n",
       "      <td>19940609</td>\n",
       "      <td>NaN</td>\n",
       "      <td>***000000**</td>\n",
       "      <td>None</td>\n",
       "      <td>0</td>\n",
       "      <td>8</td>\n",
       "    </tr>\n",
       "  </tbody>\n",
       "</table>\n",
       "</div>\n",
       "      <button class=\"colab-df-convert\" onclick=\"convertToInteractive('df-fc11c8b6-3de3-4926-9a1c-9bc8bdb14a86')\"\n",
       "              title=\"Convert this dataframe to an interactive table.\"\n",
       "              style=\"display:none;\">\n",
       "        \n",
       "  <svg xmlns=\"http://www.w3.org/2000/svg\" height=\"24px\"viewBox=\"0 0 24 24\"\n",
       "       width=\"24px\">\n",
       "    <path d=\"M0 0h24v24H0V0z\" fill=\"none\"/>\n",
       "    <path d=\"M18.56 5.44l.94 2.06.94-2.06 2.06-.94-2.06-.94-.94-2.06-.94 2.06-2.06.94zm-11 1L8.5 8.5l.94-2.06 2.06-.94-2.06-.94L8.5 2.5l-.94 2.06-2.06.94zm10 10l.94 2.06.94-2.06 2.06-.94-2.06-.94-.94-2.06-.94 2.06-2.06.94z\"/><path d=\"M17.41 7.96l-1.37-1.37c-.4-.4-.92-.59-1.43-.59-.52 0-1.04.2-1.43.59L10.3 9.45l-7.72 7.72c-.78.78-.78 2.05 0 2.83L4 21.41c.39.39.9.59 1.41.59.51 0 1.02-.2 1.41-.59l7.78-7.78 2.81-2.81c.8-.78.8-2.07 0-2.86zM5.41 20L4 18.59l7.72-7.72 1.47 1.35L5.41 20z\"/>\n",
       "  </svg>\n",
       "      </button>\n",
       "      \n",
       "  <style>\n",
       "    .colab-df-container {\n",
       "      display:flex;\n",
       "      flex-wrap:wrap;\n",
       "      gap: 12px;\n",
       "    }\n",
       "\n",
       "    .colab-df-convert {\n",
       "      background-color: #E8F0FE;\n",
       "      border: none;\n",
       "      border-radius: 50%;\n",
       "      cursor: pointer;\n",
       "      display: none;\n",
       "      fill: #1967D2;\n",
       "      height: 32px;\n",
       "      padding: 0 0 0 0;\n",
       "      width: 32px;\n",
       "    }\n",
       "\n",
       "    .colab-df-convert:hover {\n",
       "      background-color: #E2EBFA;\n",
       "      box-shadow: 0px 1px 2px rgba(60, 64, 67, 0.3), 0px 1px 3px 1px rgba(60, 64, 67, 0.15);\n",
       "      fill: #174EA6;\n",
       "    }\n",
       "\n",
       "    [theme=dark] .colab-df-convert {\n",
       "      background-color: #3B4455;\n",
       "      fill: #D2E3FC;\n",
       "    }\n",
       "\n",
       "    [theme=dark] .colab-df-convert:hover {\n",
       "      background-color: #434B5C;\n",
       "      box-shadow: 0px 1px 3px 1px rgba(0, 0, 0, 0.15);\n",
       "      filter: drop-shadow(0px 1px 2px rgba(0, 0, 0, 0.3));\n",
       "      fill: #FFFFFF;\n",
       "    }\n",
       "  </style>\n",
       "\n",
       "      <script>\n",
       "        const buttonEl =\n",
       "          document.querySelector('#df-fc11c8b6-3de3-4926-9a1c-9bc8bdb14a86 button.colab-df-convert');\n",
       "        buttonEl.style.display =\n",
       "          google.colab.kernel.accessAllowed ? 'block' : 'none';\n",
       "\n",
       "        async function convertToInteractive(key) {\n",
       "          const element = document.querySelector('#df-fc11c8b6-3de3-4926-9a1c-9bc8bdb14a86');\n",
       "          const dataTable =\n",
       "            await google.colab.kernel.invokeFunction('convertToInteractive',\n",
       "                                                     [key], {});\n",
       "          if (!dataTable) return;\n",
       "\n",
       "          const docLinkHtml = 'Like what you see? Visit the ' +\n",
       "            '<a target=\"_blank\" href=https://colab.research.google.com/notebooks/data_table.ipynb>data table notebook</a>'\n",
       "            + ' to learn more about interactive tables.';\n",
       "          element.innerHTML = '';\n",
       "          dataTable['output_type'] = 'display_data';\n",
       "          await google.colab.output.renderOutput(dataTable, element);\n",
       "          const docLink = document.createElement('div');\n",
       "          docLink.innerHTML = docLinkHtml;\n",
       "          element.appendChild(docLink);\n",
       "        }\n",
       "      </script>\n",
       "    </div>\n",
       "  </div>\n",
       "  "
      ],
      "text/plain": [
       "   cnpj_basico  identificador_de_socio    nome_do_socio_ou_razao_social  \\\n",
       "0          411                       2      LILIANA PATRICIA GUASTAVINO   \n",
       "1          411                       2             CRISTINA HUNDERTMARK   \n",
       "2         5813                       2  CELSO EDUARDO DE CASTRO STEPHAN   \n",
       "3         5813                       2        EDUARDO BERRINGER STEPHAN   \n",
       "4        14798                       2              HANNE MAHFOUD FADEL   \n",
       "\n",
       "  cnpj_ou_cpf_do_socio  qualificacao_do_socio  data_de_entrada_sociedade  \\\n",
       "0          ***678188**                     22                   19940725   \n",
       "1          ***637848**                     28                   19940725   \n",
       "2          ***786068**                     49                   19940516   \n",
       "3          ***442348**                     49                   19940516   \n",
       "4          ***760388**                     49                   19940609   \n",
       "\n",
       "   pais representante_legal nome_do_representante  \\\n",
       "0   NaN         ***000000**                  None   \n",
       "1   NaN         ***000000**                  None   \n",
       "2   NaN         ***000000**                  None   \n",
       "3   NaN         ***000000**                  None   \n",
       "4   NaN         ***000000**                  None   \n",
       "\n",
       "   qualificacao_do_representante_legal  faixa_etaria  \n",
       "0                                    0             7  \n",
       "1                                    0             7  \n",
       "2                                    0             8  \n",
       "3                                    0             5  \n",
       "4                                    0             8  "
      ]
     },
     "execution_count": 22,
     "metadata": {},
     "output_type": "execute_result"
    }
   ],
   "source": [
    "socios.limit(5).toPandas()"
   ]
  },
  {
   "cell_type": "code",
   "execution_count": null,
   "metadata": {
    "id": "Qp6iR4u6dxOm"
   },
   "outputs": [],
   "source": [
    "estabelecimentos.limit(5).toPandas()\n",
    "estabsColNames = ['cnpj_basico', 'cnpj_ordem', 'cnpj_dv', 'identificador_matriz_filial', 'nome_fantasia', 'situacao_cadastral', 'data_situacao_cadastral', 'motivo_situacao_cadastral', 'nome_da_cidade_no_exterior', 'pais', 'data_de_inicio_atividade', 'cnae_fiscal_principal', 'cnae_fiscal_secundaria', 'tipo_de_logradouro', 'logradouro', 'numero', 'complemento', 'bairro', 'cep', 'uf', 'municipio', 'ddd_1', 'telefone_1', 'ddd_2', 'telefone_2', 'ddd_do_fax', 'fax', 'correio_eletronico', 'situacao_especial', 'data_da_situacao_especial']"
   ]
  },
  {
   "cell_type": "code",
   "execution_count": null,
   "metadata": {
    "colab": {
     "base_uri": "https://localhost:8080/"
    },
    "id": "18AnPbVVea2J",
    "outputId": "57d27c0d-ba7b-4635-b21f-d85548ac2187"
   },
   "outputs": [
    {
     "data": {
      "text/plain": [
       "['cnpj_basico',\n",
       " 'cnpj_ordem',\n",
       " 'cnpj_dv',\n",
       " 'identificador_matriz_filial',\n",
       " 'nome_fantasia',\n",
       " 'situacao_cadastral',\n",
       " 'data_situacao_cadastral',\n",
       " 'motivo_situacao_cadastral',\n",
       " 'nome_da_cidade_no_exterior',\n",
       " 'pais',\n",
       " 'data_de_inicio_atividade',\n",
       " 'cnae_fiscal_principal',\n",
       " 'cnae_fiscal_secundaria',\n",
       " 'tipo_de_logradouro',\n",
       " 'logradouro',\n",
       " 'numero',\n",
       " 'complemento',\n",
       " 'bairro',\n",
       " 'cep',\n",
       " 'uf',\n",
       " 'municipio',\n",
       " 'ddd_1',\n",
       " 'telefone_1',\n",
       " 'ddd_2',\n",
       " 'telefone_2',\n",
       " 'ddd_do_fax',\n",
       " 'fax',\n",
       " 'correio_eletronico',\n",
       " 'situacao_especial',\n",
       " 'data_da_situacao_especial']"
      ]
     },
     "execution_count": 24,
     "metadata": {},
     "output_type": "execute_result"
    }
   ],
   "source": [
    "for index, colName in enumerate(estabsColNames):\n",
    "  estabelecimentos = estabelecimentos.withColumnRenamed(f\"_c{index}\", colName)\n",
    "estabelecimentos.columns"
   ]
  },
  {
   "cell_type": "markdown",
   "metadata": {
    "id": "tedcVsSayokd"
   },
   "source": [
    "**Analisando os dados**"
   ]
  },
  {
   "cell_type": "code",
   "execution_count": null,
   "metadata": {
    "colab": {
     "base_uri": "https://localhost:8080/",
     "height": 322
    },
    "id": "zh2hOwhgel1j",
    "outputId": "f4ee80d3-0c32-48e0-a7f4-eab9183740fc"
   },
   "outputs": [
    {
     "data": {
      "text/html": [
       "\n",
       "  <div id=\"df-4df9bd35-927c-4e29-b13d-f82d2b7f62ab\">\n",
       "    <div class=\"colab-df-container\">\n",
       "      <div>\n",
       "<style scoped>\n",
       "    .dataframe tbody tr th:only-of-type {\n",
       "        vertical-align: middle;\n",
       "    }\n",
       "\n",
       "    .dataframe tbody tr th {\n",
       "        vertical-align: top;\n",
       "    }\n",
       "\n",
       "    .dataframe thead th {\n",
       "        text-align: right;\n",
       "    }\n",
       "</style>\n",
       "<table border=\"1\" class=\"dataframe\">\n",
       "  <thead>\n",
       "    <tr style=\"text-align: right;\">\n",
       "      <th></th>\n",
       "      <th>cnpj_basico</th>\n",
       "      <th>razao_social_nome_empresarial</th>\n",
       "      <th>natureza_juridica</th>\n",
       "      <th>qualificacao_do_responsavel</th>\n",
       "      <th>capital_social_da_empresa</th>\n",
       "      <th>porte_da_empresa</th>\n",
       "      <th>ente_federativo_responsavel</th>\n",
       "    </tr>\n",
       "  </thead>\n",
       "  <tbody>\n",
       "    <tr>\n",
       "      <th>0</th>\n",
       "      <td>306</td>\n",
       "      <td>FRANCAMAR REFRIGERACAO TECNICA S/C LTDA</td>\n",
       "      <td>2240</td>\n",
       "      <td>49</td>\n",
       "      <td>0,00</td>\n",
       "      <td>1</td>\n",
       "      <td>None</td>\n",
       "    </tr>\n",
       "    <tr>\n",
       "      <th>1</th>\n",
       "      <td>1355</td>\n",
       "      <td>BRASILEIRO &amp; OLIVEIRA LTDA</td>\n",
       "      <td>2062</td>\n",
       "      <td>49</td>\n",
       "      <td>0,00</td>\n",
       "      <td>5</td>\n",
       "      <td>None</td>\n",
       "    </tr>\n",
       "    <tr>\n",
       "      <th>2</th>\n",
       "      <td>4820</td>\n",
       "      <td>REGISTRO DE IMOVEIS, TABELIONATO 1 DE NOTAS E ...</td>\n",
       "      <td>3034</td>\n",
       "      <td>32</td>\n",
       "      <td>0,00</td>\n",
       "      <td>5</td>\n",
       "      <td>None</td>\n",
       "    </tr>\n",
       "    <tr>\n",
       "      <th>3</th>\n",
       "      <td>5347</td>\n",
       "      <td>ROSELY APARECIDA MONTEIRO CALTABIANO FREITAS</td>\n",
       "      <td>2135</td>\n",
       "      <td>50</td>\n",
       "      <td>0,00</td>\n",
       "      <td>5</td>\n",
       "      <td>None</td>\n",
       "    </tr>\n",
       "    <tr>\n",
       "      <th>4</th>\n",
       "      <td>6846</td>\n",
       "      <td>BADU E FILHOS TECIDOS LTDA</td>\n",
       "      <td>2062</td>\n",
       "      <td>49</td>\n",
       "      <td>4000,00</td>\n",
       "      <td>1</td>\n",
       "      <td>None</td>\n",
       "    </tr>\n",
       "  </tbody>\n",
       "</table>\n",
       "</div>\n",
       "      <button class=\"colab-df-convert\" onclick=\"convertToInteractive('df-4df9bd35-927c-4e29-b13d-f82d2b7f62ab')\"\n",
       "              title=\"Convert this dataframe to an interactive table.\"\n",
       "              style=\"display:none;\">\n",
       "        \n",
       "  <svg xmlns=\"http://www.w3.org/2000/svg\" height=\"24px\"viewBox=\"0 0 24 24\"\n",
       "       width=\"24px\">\n",
       "    <path d=\"M0 0h24v24H0V0z\" fill=\"none\"/>\n",
       "    <path d=\"M18.56 5.44l.94 2.06.94-2.06 2.06-.94-2.06-.94-.94-2.06-.94 2.06-2.06.94zm-11 1L8.5 8.5l.94-2.06 2.06-.94-2.06-.94L8.5 2.5l-.94 2.06-2.06.94zm10 10l.94 2.06.94-2.06 2.06-.94-2.06-.94-.94-2.06-.94 2.06-2.06.94z\"/><path d=\"M17.41 7.96l-1.37-1.37c-.4-.4-.92-.59-1.43-.59-.52 0-1.04.2-1.43.59L10.3 9.45l-7.72 7.72c-.78.78-.78 2.05 0 2.83L4 21.41c.39.39.9.59 1.41.59.51 0 1.02-.2 1.41-.59l7.78-7.78 2.81-2.81c.8-.78.8-2.07 0-2.86zM5.41 20L4 18.59l7.72-7.72 1.47 1.35L5.41 20z\"/>\n",
       "  </svg>\n",
       "      </button>\n",
       "      \n",
       "  <style>\n",
       "    .colab-df-container {\n",
       "      display:flex;\n",
       "      flex-wrap:wrap;\n",
       "      gap: 12px;\n",
       "    }\n",
       "\n",
       "    .colab-df-convert {\n",
       "      background-color: #E8F0FE;\n",
       "      border: none;\n",
       "      border-radius: 50%;\n",
       "      cursor: pointer;\n",
       "      display: none;\n",
       "      fill: #1967D2;\n",
       "      height: 32px;\n",
       "      padding: 0 0 0 0;\n",
       "      width: 32px;\n",
       "    }\n",
       "\n",
       "    .colab-df-convert:hover {\n",
       "      background-color: #E2EBFA;\n",
       "      box-shadow: 0px 1px 2px rgba(60, 64, 67, 0.3), 0px 1px 3px 1px rgba(60, 64, 67, 0.15);\n",
       "      fill: #174EA6;\n",
       "    }\n",
       "\n",
       "    [theme=dark] .colab-df-convert {\n",
       "      background-color: #3B4455;\n",
       "      fill: #D2E3FC;\n",
       "    }\n",
       "\n",
       "    [theme=dark] .colab-df-convert:hover {\n",
       "      background-color: #434B5C;\n",
       "      box-shadow: 0px 1px 3px 1px rgba(0, 0, 0, 0.15);\n",
       "      filter: drop-shadow(0px 1px 2px rgba(0, 0, 0, 0.3));\n",
       "      fill: #FFFFFF;\n",
       "    }\n",
       "  </style>\n",
       "\n",
       "      <script>\n",
       "        const buttonEl =\n",
       "          document.querySelector('#df-4df9bd35-927c-4e29-b13d-f82d2b7f62ab button.colab-df-convert');\n",
       "        buttonEl.style.display =\n",
       "          google.colab.kernel.accessAllowed ? 'block' : 'none';\n",
       "\n",
       "        async function convertToInteractive(key) {\n",
       "          const element = document.querySelector('#df-4df9bd35-927c-4e29-b13d-f82d2b7f62ab');\n",
       "          const dataTable =\n",
       "            await google.colab.kernel.invokeFunction('convertToInteractive',\n",
       "                                                     [key], {});\n",
       "          if (!dataTable) return;\n",
       "\n",
       "          const docLinkHtml = 'Like what you see? Visit the ' +\n",
       "            '<a target=\"_blank\" href=https://colab.research.google.com/notebooks/data_table.ipynb>data table notebook</a>'\n",
       "            + ' to learn more about interactive tables.';\n",
       "          element.innerHTML = '';\n",
       "          dataTable['output_type'] = 'display_data';\n",
       "          await google.colab.output.renderOutput(dataTable, element);\n",
       "          const docLink = document.createElement('div');\n",
       "          docLink.innerHTML = docLinkHtml;\n",
       "          element.appendChild(docLink);\n",
       "        }\n",
       "      </script>\n",
       "    </div>\n",
       "  </div>\n",
       "  "
      ],
      "text/plain": [
       "   cnpj_basico                      razao_social_nome_empresarial  \\\n",
       "0          306            FRANCAMAR REFRIGERACAO TECNICA S/C LTDA   \n",
       "1         1355                         BRASILEIRO & OLIVEIRA LTDA   \n",
       "2         4820  REGISTRO DE IMOVEIS, TABELIONATO 1 DE NOTAS E ...   \n",
       "3         5347       ROSELY APARECIDA MONTEIRO CALTABIANO FREITAS   \n",
       "4         6846                         BADU E FILHOS TECIDOS LTDA   \n",
       "\n",
       "   natureza_juridica  qualificacao_do_responsavel capital_social_da_empresa  \\\n",
       "0               2240                           49                      0,00   \n",
       "1               2062                           49                      0,00   \n",
       "2               3034                           32                      0,00   \n",
       "3               2135                           50                      0,00   \n",
       "4               2062                           49                   4000,00   \n",
       "\n",
       "   porte_da_empresa ente_federativo_responsavel  \n",
       "0                 1                        None  \n",
       "1                 5                        None  \n",
       "2                 5                        None  \n",
       "3                 5                        None  \n",
       "4                 1                        None  "
      ]
     },
     "execution_count": 25,
     "metadata": {},
     "output_type": "execute_result"
    }
   ],
   "source": [
    "empresas.limit(5).toPandas()"
   ]
  },
  {
   "cell_type": "code",
   "execution_count": null,
   "metadata": {
    "colab": {
     "base_uri": "https://localhost:8080/"
    },
    "id": "upPCh2XJyuOS",
    "outputId": "d3c7dab0-d016-4d82-d6b1-41b789f073a2"
   },
   "outputs": [
    {
     "name": "stdout",
     "output_type": "stream",
     "text": [
      "root\n",
      " |-- cnpj_basico: integer (nullable = true)\n",
      " |-- razao_social_nome_empresarial: string (nullable = true)\n",
      " |-- natureza_juridica: integer (nullable = true)\n",
      " |-- qualificacao_do_responsavel: integer (nullable = true)\n",
      " |-- capital_social_da_empresa: string (nullable = true)\n",
      " |-- porte_da_empresa: integer (nullable = true)\n",
      " |-- ente_federativo_responsavel: string (nullable = true)\n",
      "\n"
     ]
    }
   ],
   "source": [
    "empresas.printSchema() #veriricar os schema da tabela (tipo do dado por exemplo) - insight: capital social esta como string; separado decimal por vigula"
   ]
  },
  {
   "cell_type": "code",
   "execution_count": null,
   "metadata": {
    "colab": {
     "base_uri": "https://localhost:8080/",
     "height": 305
    },
    "id": "HwHF8nU6zdIf",
    "outputId": "b09d7d6c-4cd2-4a20-e0f1-b0ac35229ed4"
   },
   "outputs": [
    {
     "data": {
      "text/html": [
       "\n",
       "  <div id=\"df-d1fc0a62-1d10-4642-a69c-f299cb3e72a2\">\n",
       "    <div class=\"colab-df-container\">\n",
       "      <div>\n",
       "<style scoped>\n",
       "    .dataframe tbody tr th:only-of-type {\n",
       "        vertical-align: middle;\n",
       "    }\n",
       "\n",
       "    .dataframe tbody tr th {\n",
       "        vertical-align: top;\n",
       "    }\n",
       "\n",
       "    .dataframe thead th {\n",
       "        text-align: right;\n",
       "    }\n",
       "</style>\n",
       "<table border=\"1\" class=\"dataframe\">\n",
       "  <thead>\n",
       "    <tr style=\"text-align: right;\">\n",
       "      <th></th>\n",
       "      <th>cnpj_basico</th>\n",
       "      <th>identificador_de_socio</th>\n",
       "      <th>nome_do_socio_ou_razao_social</th>\n",
       "      <th>cnpj_ou_cpf_do_socio</th>\n",
       "      <th>qualificacao_do_socio</th>\n",
       "      <th>data_de_entrada_sociedade</th>\n",
       "      <th>pais</th>\n",
       "      <th>representante_legal</th>\n",
       "      <th>nome_do_representante</th>\n",
       "      <th>qualificacao_do_representante_legal</th>\n",
       "      <th>faixa_etaria</th>\n",
       "    </tr>\n",
       "  </thead>\n",
       "  <tbody>\n",
       "    <tr>\n",
       "      <th>0</th>\n",
       "      <td>411</td>\n",
       "      <td>2</td>\n",
       "      <td>LILIANA PATRICIA GUASTAVINO</td>\n",
       "      <td>***678188**</td>\n",
       "      <td>22</td>\n",
       "      <td>19940725</td>\n",
       "      <td>NaN</td>\n",
       "      <td>***000000**</td>\n",
       "      <td>None</td>\n",
       "      <td>0</td>\n",
       "      <td>7</td>\n",
       "    </tr>\n",
       "    <tr>\n",
       "      <th>1</th>\n",
       "      <td>411</td>\n",
       "      <td>2</td>\n",
       "      <td>CRISTINA HUNDERTMARK</td>\n",
       "      <td>***637848**</td>\n",
       "      <td>28</td>\n",
       "      <td>19940725</td>\n",
       "      <td>NaN</td>\n",
       "      <td>***000000**</td>\n",
       "      <td>None</td>\n",
       "      <td>0</td>\n",
       "      <td>7</td>\n",
       "    </tr>\n",
       "    <tr>\n",
       "      <th>2</th>\n",
       "      <td>5813</td>\n",
       "      <td>2</td>\n",
       "      <td>CELSO EDUARDO DE CASTRO STEPHAN</td>\n",
       "      <td>***786068**</td>\n",
       "      <td>49</td>\n",
       "      <td>19940516</td>\n",
       "      <td>NaN</td>\n",
       "      <td>***000000**</td>\n",
       "      <td>None</td>\n",
       "      <td>0</td>\n",
       "      <td>8</td>\n",
       "    </tr>\n",
       "    <tr>\n",
       "      <th>3</th>\n",
       "      <td>5813</td>\n",
       "      <td>2</td>\n",
       "      <td>EDUARDO BERRINGER STEPHAN</td>\n",
       "      <td>***442348**</td>\n",
       "      <td>49</td>\n",
       "      <td>19940516</td>\n",
       "      <td>NaN</td>\n",
       "      <td>***000000**</td>\n",
       "      <td>None</td>\n",
       "      <td>0</td>\n",
       "      <td>5</td>\n",
       "    </tr>\n",
       "    <tr>\n",
       "      <th>4</th>\n",
       "      <td>14798</td>\n",
       "      <td>2</td>\n",
       "      <td>HANNE MAHFOUD FADEL</td>\n",
       "      <td>***760388**</td>\n",
       "      <td>49</td>\n",
       "      <td>19940609</td>\n",
       "      <td>NaN</td>\n",
       "      <td>***000000**</td>\n",
       "      <td>None</td>\n",
       "      <td>0</td>\n",
       "      <td>8</td>\n",
       "    </tr>\n",
       "  </tbody>\n",
       "</table>\n",
       "</div>\n",
       "      <button class=\"colab-df-convert\" onclick=\"convertToInteractive('df-d1fc0a62-1d10-4642-a69c-f299cb3e72a2')\"\n",
       "              title=\"Convert this dataframe to an interactive table.\"\n",
       "              style=\"display:none;\">\n",
       "        \n",
       "  <svg xmlns=\"http://www.w3.org/2000/svg\" height=\"24px\"viewBox=\"0 0 24 24\"\n",
       "       width=\"24px\">\n",
       "    <path d=\"M0 0h24v24H0V0z\" fill=\"none\"/>\n",
       "    <path d=\"M18.56 5.44l.94 2.06.94-2.06 2.06-.94-2.06-.94-.94-2.06-.94 2.06-2.06.94zm-11 1L8.5 8.5l.94-2.06 2.06-.94-2.06-.94L8.5 2.5l-.94 2.06-2.06.94zm10 10l.94 2.06.94-2.06 2.06-.94-2.06-.94-.94-2.06-.94 2.06-2.06.94z\"/><path d=\"M17.41 7.96l-1.37-1.37c-.4-.4-.92-.59-1.43-.59-.52 0-1.04.2-1.43.59L10.3 9.45l-7.72 7.72c-.78.78-.78 2.05 0 2.83L4 21.41c.39.39.9.59 1.41.59.51 0 1.02-.2 1.41-.59l7.78-7.78 2.81-2.81c.8-.78.8-2.07 0-2.86zM5.41 20L4 18.59l7.72-7.72 1.47 1.35L5.41 20z\"/>\n",
       "  </svg>\n",
       "      </button>\n",
       "      \n",
       "  <style>\n",
       "    .colab-df-container {\n",
       "      display:flex;\n",
       "      flex-wrap:wrap;\n",
       "      gap: 12px;\n",
       "    }\n",
       "\n",
       "    .colab-df-convert {\n",
       "      background-color: #E8F0FE;\n",
       "      border: none;\n",
       "      border-radius: 50%;\n",
       "      cursor: pointer;\n",
       "      display: none;\n",
       "      fill: #1967D2;\n",
       "      height: 32px;\n",
       "      padding: 0 0 0 0;\n",
       "      width: 32px;\n",
       "    }\n",
       "\n",
       "    .colab-df-convert:hover {\n",
       "      background-color: #E2EBFA;\n",
       "      box-shadow: 0px 1px 2px rgba(60, 64, 67, 0.3), 0px 1px 3px 1px rgba(60, 64, 67, 0.15);\n",
       "      fill: #174EA6;\n",
       "    }\n",
       "\n",
       "    [theme=dark] .colab-df-convert {\n",
       "      background-color: #3B4455;\n",
       "      fill: #D2E3FC;\n",
       "    }\n",
       "\n",
       "    [theme=dark] .colab-df-convert:hover {\n",
       "      background-color: #434B5C;\n",
       "      box-shadow: 0px 1px 3px 1px rgba(0, 0, 0, 0.15);\n",
       "      filter: drop-shadow(0px 1px 2px rgba(0, 0, 0, 0.3));\n",
       "      fill: #FFFFFF;\n",
       "    }\n",
       "  </style>\n",
       "\n",
       "      <script>\n",
       "        const buttonEl =\n",
       "          document.querySelector('#df-d1fc0a62-1d10-4642-a69c-f299cb3e72a2 button.colab-df-convert');\n",
       "        buttonEl.style.display =\n",
       "          google.colab.kernel.accessAllowed ? 'block' : 'none';\n",
       "\n",
       "        async function convertToInteractive(key) {\n",
       "          const element = document.querySelector('#df-d1fc0a62-1d10-4642-a69c-f299cb3e72a2');\n",
       "          const dataTable =\n",
       "            await google.colab.kernel.invokeFunction('convertToInteractive',\n",
       "                                                     [key], {});\n",
       "          if (!dataTable) return;\n",
       "\n",
       "          const docLinkHtml = 'Like what you see? Visit the ' +\n",
       "            '<a target=\"_blank\" href=https://colab.research.google.com/notebooks/data_table.ipynb>data table notebook</a>'\n",
       "            + ' to learn more about interactive tables.';\n",
       "          element.innerHTML = '';\n",
       "          dataTable['output_type'] = 'display_data';\n",
       "          await google.colab.output.renderOutput(dataTable, element);\n",
       "          const docLink = document.createElement('div');\n",
       "          docLink.innerHTML = docLinkHtml;\n",
       "          element.appendChild(docLink);\n",
       "        }\n",
       "      </script>\n",
       "    </div>\n",
       "  </div>\n",
       "  "
      ],
      "text/plain": [
       "   cnpj_basico  identificador_de_socio    nome_do_socio_ou_razao_social  \\\n",
       "0          411                       2      LILIANA PATRICIA GUASTAVINO   \n",
       "1          411                       2             CRISTINA HUNDERTMARK   \n",
       "2         5813                       2  CELSO EDUARDO DE CASTRO STEPHAN   \n",
       "3         5813                       2        EDUARDO BERRINGER STEPHAN   \n",
       "4        14798                       2              HANNE MAHFOUD FADEL   \n",
       "\n",
       "  cnpj_ou_cpf_do_socio  qualificacao_do_socio  data_de_entrada_sociedade  \\\n",
       "0          ***678188**                     22                   19940725   \n",
       "1          ***637848**                     28                   19940725   \n",
       "2          ***786068**                     49                   19940516   \n",
       "3          ***442348**                     49                   19940516   \n",
       "4          ***760388**                     49                   19940609   \n",
       "\n",
       "   pais representante_legal nome_do_representante  \\\n",
       "0   NaN         ***000000**                  None   \n",
       "1   NaN         ***000000**                  None   \n",
       "2   NaN         ***000000**                  None   \n",
       "3   NaN         ***000000**                  None   \n",
       "4   NaN         ***000000**                  None   \n",
       "\n",
       "   qualificacao_do_representante_legal  faixa_etaria  \n",
       "0                                    0             7  \n",
       "1                                    0             7  \n",
       "2                                    0             8  \n",
       "3                                    0             5  \n",
       "4                                    0             8  "
      ]
     },
     "execution_count": 27,
     "metadata": {},
     "output_type": "execute_result"
    }
   ],
   "source": [
    "socios.limit(5).toPandas()"
   ]
  },
  {
   "cell_type": "code",
   "execution_count": null,
   "metadata": {
    "colab": {
     "base_uri": "https://localhost:8080/"
    },
    "id": "-2pvCaaNyx4I",
    "outputId": "e111cafc-cb71-4bb0-fde7-4de1ea578b8c"
   },
   "outputs": [
    {
     "name": "stdout",
     "output_type": "stream",
     "text": [
      "root\n",
      " |-- cnpj_basico: integer (nullable = true)\n",
      " |-- identificador_de_socio: integer (nullable = true)\n",
      " |-- nome_do_socio_ou_razao_social: string (nullable = true)\n",
      " |-- cnpj_ou_cpf_do_socio: string (nullable = true)\n",
      " |-- qualificacao_do_socio: integer (nullable = true)\n",
      " |-- data_de_entrada_sociedade: integer (nullable = true)\n",
      " |-- pais: integer (nullable = true)\n",
      " |-- representante_legal: string (nullable = true)\n",
      " |-- nome_do_representante: string (nullable = true)\n",
      " |-- qualificacao_do_representante_legal: integer (nullable = true)\n",
      " |-- faixa_etaria: integer (nullable = true)\n",
      "\n"
     ]
    }
   ],
   "source": [
    "socios.printSchema() #insight: o data de entrada sociedade esta como inteiro; usual formato de data para analises"
   ]
  },
  {
   "cell_type": "code",
   "execution_count": null,
   "metadata": {
    "colab": {
     "base_uri": "https://localhost:8080/",
     "height": 334
    },
    "id": "pMBGbfh_zQFG",
    "outputId": "a49cefab-9d5a-4870-a8c6-3a7ff9aa8373"
   },
   "outputs": [
    {
     "data": {
      "text/html": [
       "\n",
       "  <div id=\"df-68ec2a9f-910a-4ec5-9e1a-896ca619038b\">\n",
       "    <div class=\"colab-df-container\">\n",
       "      <div>\n",
       "<style scoped>\n",
       "    .dataframe tbody tr th:only-of-type {\n",
       "        vertical-align: middle;\n",
       "    }\n",
       "\n",
       "    .dataframe tbody tr th {\n",
       "        vertical-align: top;\n",
       "    }\n",
       "\n",
       "    .dataframe thead th {\n",
       "        text-align: right;\n",
       "    }\n",
       "</style>\n",
       "<table border=\"1\" class=\"dataframe\">\n",
       "  <thead>\n",
       "    <tr style=\"text-align: right;\">\n",
       "      <th></th>\n",
       "      <th>cnpj_basico</th>\n",
       "      <th>cnpj_ordem</th>\n",
       "      <th>cnpj_dv</th>\n",
       "      <th>identificador_matriz_filial</th>\n",
       "      <th>nome_fantasia</th>\n",
       "      <th>situacao_cadastral</th>\n",
       "      <th>data_situacao_cadastral</th>\n",
       "      <th>motivo_situacao_cadastral</th>\n",
       "      <th>nome_da_cidade_no_exterior</th>\n",
       "      <th>pais</th>\n",
       "      <th>...</th>\n",
       "      <th>municipio</th>\n",
       "      <th>ddd_1</th>\n",
       "      <th>telefone_1</th>\n",
       "      <th>ddd_2</th>\n",
       "      <th>telefone_2</th>\n",
       "      <th>ddd_do_fax</th>\n",
       "      <th>fax</th>\n",
       "      <th>correio_eletronico</th>\n",
       "      <th>situacao_especial</th>\n",
       "      <th>data_da_situacao_especial</th>\n",
       "    </tr>\n",
       "  </thead>\n",
       "  <tbody>\n",
       "    <tr>\n",
       "      <th>0</th>\n",
       "      <td>1879</td>\n",
       "      <td>1</td>\n",
       "      <td>96</td>\n",
       "      <td>1</td>\n",
       "      <td>PIRAMIDE M. C.</td>\n",
       "      <td>8</td>\n",
       "      <td>20011029</td>\n",
       "      <td>1</td>\n",
       "      <td>None</td>\n",
       "      <td>NaN</td>\n",
       "      <td>...</td>\n",
       "      <td>7107</td>\n",
       "      <td>None</td>\n",
       "      <td>None</td>\n",
       "      <td>None</td>\n",
       "      <td>None</td>\n",
       "      <td>NaN</td>\n",
       "      <td>None</td>\n",
       "      <td>None</td>\n",
       "      <td>None</td>\n",
       "      <td>NaN</td>\n",
       "    </tr>\n",
       "    <tr>\n",
       "      <th>1</th>\n",
       "      <td>2818</td>\n",
       "      <td>1</td>\n",
       "      <td>43</td>\n",
       "      <td>1</td>\n",
       "      <td>None</td>\n",
       "      <td>8</td>\n",
       "      <td>20081231</td>\n",
       "      <td>71</td>\n",
       "      <td>None</td>\n",
       "      <td>NaN</td>\n",
       "      <td>...</td>\n",
       "      <td>7107</td>\n",
       "      <td>None</td>\n",
       "      <td>None</td>\n",
       "      <td>None</td>\n",
       "      <td>None</td>\n",
       "      <td>NaN</td>\n",
       "      <td>None</td>\n",
       "      <td>None</td>\n",
       "      <td>None</td>\n",
       "      <td>NaN</td>\n",
       "    </tr>\n",
       "    <tr>\n",
       "      <th>2</th>\n",
       "      <td>3110</td>\n",
       "      <td>1</td>\n",
       "      <td>7</td>\n",
       "      <td>1</td>\n",
       "      <td>None</td>\n",
       "      <td>8</td>\n",
       "      <td>19971231</td>\n",
       "      <td>1</td>\n",
       "      <td>None</td>\n",
       "      <td>NaN</td>\n",
       "      <td>...</td>\n",
       "      <td>7107</td>\n",
       "      <td>None</td>\n",
       "      <td>None</td>\n",
       "      <td>None</td>\n",
       "      <td>None</td>\n",
       "      <td>NaN</td>\n",
       "      <td>None</td>\n",
       "      <td>None</td>\n",
       "      <td>None</td>\n",
       "      <td>NaN</td>\n",
       "    </tr>\n",
       "    <tr>\n",
       "      <th>3</th>\n",
       "      <td>3733</td>\n",
       "      <td>1</td>\n",
       "      <td>80</td>\n",
       "      <td>1</td>\n",
       "      <td>None</td>\n",
       "      <td>8</td>\n",
       "      <td>20081231</td>\n",
       "      <td>71</td>\n",
       "      <td>None</td>\n",
       "      <td>NaN</td>\n",
       "      <td>...</td>\n",
       "      <td>7107</td>\n",
       "      <td>None</td>\n",
       "      <td>None</td>\n",
       "      <td>None</td>\n",
       "      <td>None</td>\n",
       "      <td>NaN</td>\n",
       "      <td>None</td>\n",
       "      <td>None</td>\n",
       "      <td>None</td>\n",
       "      <td>NaN</td>\n",
       "    </tr>\n",
       "    <tr>\n",
       "      <th>4</th>\n",
       "      <td>4628</td>\n",
       "      <td>3</td>\n",
       "      <td>27</td>\n",
       "      <td>2</td>\n",
       "      <td>EMBROIDERY &amp; GIFT</td>\n",
       "      <td>8</td>\n",
       "      <td>19980429</td>\n",
       "      <td>1</td>\n",
       "      <td>None</td>\n",
       "      <td>NaN</td>\n",
       "      <td>...</td>\n",
       "      <td>7075</td>\n",
       "      <td>None</td>\n",
       "      <td>None</td>\n",
       "      <td>None</td>\n",
       "      <td>None</td>\n",
       "      <td>NaN</td>\n",
       "      <td>None</td>\n",
       "      <td>None</td>\n",
       "      <td>None</td>\n",
       "      <td>NaN</td>\n",
       "    </tr>\n",
       "  </tbody>\n",
       "</table>\n",
       "<p>5 rows × 30 columns</p>\n",
       "</div>\n",
       "      <button class=\"colab-df-convert\" onclick=\"convertToInteractive('df-68ec2a9f-910a-4ec5-9e1a-896ca619038b')\"\n",
       "              title=\"Convert this dataframe to an interactive table.\"\n",
       "              style=\"display:none;\">\n",
       "        \n",
       "  <svg xmlns=\"http://www.w3.org/2000/svg\" height=\"24px\"viewBox=\"0 0 24 24\"\n",
       "       width=\"24px\">\n",
       "    <path d=\"M0 0h24v24H0V0z\" fill=\"none\"/>\n",
       "    <path d=\"M18.56 5.44l.94 2.06.94-2.06 2.06-.94-2.06-.94-.94-2.06-.94 2.06-2.06.94zm-11 1L8.5 8.5l.94-2.06 2.06-.94-2.06-.94L8.5 2.5l-.94 2.06-2.06.94zm10 10l.94 2.06.94-2.06 2.06-.94-2.06-.94-.94-2.06-.94 2.06-2.06.94z\"/><path d=\"M17.41 7.96l-1.37-1.37c-.4-.4-.92-.59-1.43-.59-.52 0-1.04.2-1.43.59L10.3 9.45l-7.72 7.72c-.78.78-.78 2.05 0 2.83L4 21.41c.39.39.9.59 1.41.59.51 0 1.02-.2 1.41-.59l7.78-7.78 2.81-2.81c.8-.78.8-2.07 0-2.86zM5.41 20L4 18.59l7.72-7.72 1.47 1.35L5.41 20z\"/>\n",
       "  </svg>\n",
       "      </button>\n",
       "      \n",
       "  <style>\n",
       "    .colab-df-container {\n",
       "      display:flex;\n",
       "      flex-wrap:wrap;\n",
       "      gap: 12px;\n",
       "    }\n",
       "\n",
       "    .colab-df-convert {\n",
       "      background-color: #E8F0FE;\n",
       "      border: none;\n",
       "      border-radius: 50%;\n",
       "      cursor: pointer;\n",
       "      display: none;\n",
       "      fill: #1967D2;\n",
       "      height: 32px;\n",
       "      padding: 0 0 0 0;\n",
       "      width: 32px;\n",
       "    }\n",
       "\n",
       "    .colab-df-convert:hover {\n",
       "      background-color: #E2EBFA;\n",
       "      box-shadow: 0px 1px 2px rgba(60, 64, 67, 0.3), 0px 1px 3px 1px rgba(60, 64, 67, 0.15);\n",
       "      fill: #174EA6;\n",
       "    }\n",
       "\n",
       "    [theme=dark] .colab-df-convert {\n",
       "      background-color: #3B4455;\n",
       "      fill: #D2E3FC;\n",
       "    }\n",
       "\n",
       "    [theme=dark] .colab-df-convert:hover {\n",
       "      background-color: #434B5C;\n",
       "      box-shadow: 0px 1px 3px 1px rgba(0, 0, 0, 0.15);\n",
       "      filter: drop-shadow(0px 1px 2px rgba(0, 0, 0, 0.3));\n",
       "      fill: #FFFFFF;\n",
       "    }\n",
       "  </style>\n",
       "\n",
       "      <script>\n",
       "        const buttonEl =\n",
       "          document.querySelector('#df-68ec2a9f-910a-4ec5-9e1a-896ca619038b button.colab-df-convert');\n",
       "        buttonEl.style.display =\n",
       "          google.colab.kernel.accessAllowed ? 'block' : 'none';\n",
       "\n",
       "        async function convertToInteractive(key) {\n",
       "          const element = document.querySelector('#df-68ec2a9f-910a-4ec5-9e1a-896ca619038b');\n",
       "          const dataTable =\n",
       "            await google.colab.kernel.invokeFunction('convertToInteractive',\n",
       "                                                     [key], {});\n",
       "          if (!dataTable) return;\n",
       "\n",
       "          const docLinkHtml = 'Like what you see? Visit the ' +\n",
       "            '<a target=\"_blank\" href=https://colab.research.google.com/notebooks/data_table.ipynb>data table notebook</a>'\n",
       "            + ' to learn more about interactive tables.';\n",
       "          element.innerHTML = '';\n",
       "          dataTable['output_type'] = 'display_data';\n",
       "          await google.colab.output.renderOutput(dataTable, element);\n",
       "          const docLink = document.createElement('div');\n",
       "          docLink.innerHTML = docLinkHtml;\n",
       "          element.appendChild(docLink);\n",
       "        }\n",
       "      </script>\n",
       "    </div>\n",
       "  </div>\n",
       "  "
      ],
      "text/plain": [
       "   cnpj_basico  cnpj_ordem  cnpj_dv  identificador_matriz_filial  \\\n",
       "0         1879           1       96                            1   \n",
       "1         2818           1       43                            1   \n",
       "2         3110           1        7                            1   \n",
       "3         3733           1       80                            1   \n",
       "4         4628           3       27                            2   \n",
       "\n",
       "       nome_fantasia  situacao_cadastral  data_situacao_cadastral  \\\n",
       "0     PIRAMIDE M. C.                   8                 20011029   \n",
       "1               None                   8                 20081231   \n",
       "2               None                   8                 19971231   \n",
       "3               None                   8                 20081231   \n",
       "4  EMBROIDERY & GIFT                   8                 19980429   \n",
       "\n",
       "   motivo_situacao_cadastral nome_da_cidade_no_exterior  pais  ...  municipio  \\\n",
       "0                          1                       None   NaN  ...       7107   \n",
       "1                         71                       None   NaN  ...       7107   \n",
       "2                          1                       None   NaN  ...       7107   \n",
       "3                         71                       None   NaN  ...       7107   \n",
       "4                          1                       None   NaN  ...       7075   \n",
       "\n",
       "   ddd_1 telefone_1 ddd_2 telefone_2 ddd_do_fax   fax correio_eletronico  \\\n",
       "0   None       None  None       None        NaN  None               None   \n",
       "1   None       None  None       None        NaN  None               None   \n",
       "2   None       None  None       None        NaN  None               None   \n",
       "3   None       None  None       None        NaN  None               None   \n",
       "4   None       None  None       None        NaN  None               None   \n",
       "\n",
       "   situacao_especial data_da_situacao_especial  \n",
       "0               None                       NaN  \n",
       "1               None                       NaN  \n",
       "2               None                       NaN  \n",
       "3               None                       NaN  \n",
       "4               None                       NaN  \n",
       "\n",
       "[5 rows x 30 columns]"
      ]
     },
     "execution_count": 29,
     "metadata": {},
     "output_type": "execute_result"
    }
   ],
   "source": [
    "estabelecimentos.limit(5).toPandas()"
   ]
  },
  {
   "cell_type": "code",
   "execution_count": null,
   "metadata": {
    "colab": {
     "base_uri": "https://localhost:8080/"
    },
    "id": "ZO2F0INo0DP9",
    "outputId": "55fb8b92-5b67-49f6-cbce-c669070c877e"
   },
   "outputs": [
    {
     "name": "stdout",
     "output_type": "stream",
     "text": [
      "root\n",
      " |-- cnpj_basico: integer (nullable = true)\n",
      " |-- cnpj_ordem: integer (nullable = true)\n",
      " |-- cnpj_dv: integer (nullable = true)\n",
      " |-- identificador_matriz_filial: integer (nullable = true)\n",
      " |-- nome_fantasia: string (nullable = true)\n",
      " |-- situacao_cadastral: integer (nullable = true)\n",
      " |-- data_situacao_cadastral: integer (nullable = true)\n",
      " |-- motivo_situacao_cadastral: integer (nullable = true)\n",
      " |-- nome_da_cidade_no_exterior: string (nullable = true)\n",
      " |-- pais: integer (nullable = true)\n",
      " |-- data_de_inicio_atividade: integer (nullable = true)\n",
      " |-- cnae_fiscal_principal: integer (nullable = true)\n",
      " |-- cnae_fiscal_secundaria: string (nullable = true)\n",
      " |-- tipo_de_logradouro: string (nullable = true)\n",
      " |-- logradouro: string (nullable = true)\n",
      " |-- numero: string (nullable = true)\n",
      " |-- complemento: string (nullable = true)\n",
      " |-- bairro: string (nullable = true)\n",
      " |-- cep: integer (nullable = true)\n",
      " |-- uf: string (nullable = true)\n",
      " |-- municipio: integer (nullable = true)\n",
      " |-- ddd_1: string (nullable = true)\n",
      " |-- telefone_1: string (nullable = true)\n",
      " |-- ddd_2: string (nullable = true)\n",
      " |-- telefone_2: string (nullable = true)\n",
      " |-- ddd_do_fax: integer (nullable = true)\n",
      " |-- fax: string (nullable = true)\n",
      " |-- correio_eletronico: string (nullable = true)\n",
      " |-- situacao_especial: string (nullable = true)\n",
      " |-- data_da_situacao_especial: integer (nullable = true)\n",
      "\n"
     ]
    }
   ],
   "source": [
    "estabelecimentos.printSchema() #insight: datas como inteiros"
   ]
  },
  {
   "cell_type": "markdown",
   "metadata": {
    "id": "Z7sHFGLt08fa"
   },
   "source": [
    "**Modificando os datatypes - string pra double**\n",
    "\n",
    "\n",
    "\n",
    "\n",
    "\n"
   ]
  },
  {
   "cell_type": "code",
   "execution_count": null,
   "metadata": {
    "id": "IClfrQfU0NOz"
   },
   "outputs": [],
   "source": [
    "\n",
    "from pyspark.sql.types import DoubleType, StringType\n",
    "from pyspark.sql import functions as f"
   ]
  },
  {
   "cell_type": "code",
   "execution_count": null,
   "metadata": {
    "id": "FzBlDwV81hfN"
   },
   "outputs": [],
   "source": [
    "#trocando a ',' por '.' da coluna capital social\n",
    "\n",
    "empresas = empresas.withColumn('capital_social_da_empresa', f.regexp_replace('capital_social_da_empresa', ',','.'))\n",
    "#withColumn: função de transformação do DF (alterar data types e values) além de criar novas colunas a partir de existentes\n",
    "#no f.regexp_replace (função do spark para modificação)\n",
    "#primeiro recebe a variavel onde sera feita a substituição, no caso 'capital_social_da_empresa' e no segundo qual operação ira realizar, troca de , por ."
   ]
  },
  {
   "cell_type": "code",
   "execution_count": null,
   "metadata": {
    "colab": {
     "base_uri": "https://localhost:8080/",
     "height": 322
    },
    "id": "Ebv6DcU92Tld",
    "outputId": "38359373-d97e-411c-9634-6f4742dffd1b"
   },
   "outputs": [
    {
     "data": {
      "text/html": [
       "\n",
       "  <div id=\"df-ea9c7f4e-9ba2-4aef-86d7-f46e5bb0227d\">\n",
       "    <div class=\"colab-df-container\">\n",
       "      <div>\n",
       "<style scoped>\n",
       "    .dataframe tbody tr th:only-of-type {\n",
       "        vertical-align: middle;\n",
       "    }\n",
       "\n",
       "    .dataframe tbody tr th {\n",
       "        vertical-align: top;\n",
       "    }\n",
       "\n",
       "    .dataframe thead th {\n",
       "        text-align: right;\n",
       "    }\n",
       "</style>\n",
       "<table border=\"1\" class=\"dataframe\">\n",
       "  <thead>\n",
       "    <tr style=\"text-align: right;\">\n",
       "      <th></th>\n",
       "      <th>cnpj_basico</th>\n",
       "      <th>razao_social_nome_empresarial</th>\n",
       "      <th>natureza_juridica</th>\n",
       "      <th>qualificacao_do_responsavel</th>\n",
       "      <th>capital_social_da_empresa</th>\n",
       "      <th>porte_da_empresa</th>\n",
       "      <th>ente_federativo_responsavel</th>\n",
       "    </tr>\n",
       "  </thead>\n",
       "  <tbody>\n",
       "    <tr>\n",
       "      <th>0</th>\n",
       "      <td>306</td>\n",
       "      <td>FRANCAMAR REFRIGERACAO TECNICA S/C LTDA</td>\n",
       "      <td>2240</td>\n",
       "      <td>49</td>\n",
       "      <td>0.00</td>\n",
       "      <td>1</td>\n",
       "      <td>None</td>\n",
       "    </tr>\n",
       "    <tr>\n",
       "      <th>1</th>\n",
       "      <td>1355</td>\n",
       "      <td>BRASILEIRO &amp; OLIVEIRA LTDA</td>\n",
       "      <td>2062</td>\n",
       "      <td>49</td>\n",
       "      <td>0.00</td>\n",
       "      <td>5</td>\n",
       "      <td>None</td>\n",
       "    </tr>\n",
       "    <tr>\n",
       "      <th>2</th>\n",
       "      <td>4820</td>\n",
       "      <td>REGISTRO DE IMOVEIS, TABELIONATO 1 DE NOTAS E ...</td>\n",
       "      <td>3034</td>\n",
       "      <td>32</td>\n",
       "      <td>0.00</td>\n",
       "      <td>5</td>\n",
       "      <td>None</td>\n",
       "    </tr>\n",
       "    <tr>\n",
       "      <th>3</th>\n",
       "      <td>5347</td>\n",
       "      <td>ROSELY APARECIDA MONTEIRO CALTABIANO FREITAS</td>\n",
       "      <td>2135</td>\n",
       "      <td>50</td>\n",
       "      <td>0.00</td>\n",
       "      <td>5</td>\n",
       "      <td>None</td>\n",
       "    </tr>\n",
       "    <tr>\n",
       "      <th>4</th>\n",
       "      <td>6846</td>\n",
       "      <td>BADU E FILHOS TECIDOS LTDA</td>\n",
       "      <td>2062</td>\n",
       "      <td>49</td>\n",
       "      <td>4000.00</td>\n",
       "      <td>1</td>\n",
       "      <td>None</td>\n",
       "    </tr>\n",
       "  </tbody>\n",
       "</table>\n",
       "</div>\n",
       "      <button class=\"colab-df-convert\" onclick=\"convertToInteractive('df-ea9c7f4e-9ba2-4aef-86d7-f46e5bb0227d')\"\n",
       "              title=\"Convert this dataframe to an interactive table.\"\n",
       "              style=\"display:none;\">\n",
       "        \n",
       "  <svg xmlns=\"http://www.w3.org/2000/svg\" height=\"24px\"viewBox=\"0 0 24 24\"\n",
       "       width=\"24px\">\n",
       "    <path d=\"M0 0h24v24H0V0z\" fill=\"none\"/>\n",
       "    <path d=\"M18.56 5.44l.94 2.06.94-2.06 2.06-.94-2.06-.94-.94-2.06-.94 2.06-2.06.94zm-11 1L8.5 8.5l.94-2.06 2.06-.94-2.06-.94L8.5 2.5l-.94 2.06-2.06.94zm10 10l.94 2.06.94-2.06 2.06-.94-2.06-.94-.94-2.06-.94 2.06-2.06.94z\"/><path d=\"M17.41 7.96l-1.37-1.37c-.4-.4-.92-.59-1.43-.59-.52 0-1.04.2-1.43.59L10.3 9.45l-7.72 7.72c-.78.78-.78 2.05 0 2.83L4 21.41c.39.39.9.59 1.41.59.51 0 1.02-.2 1.41-.59l7.78-7.78 2.81-2.81c.8-.78.8-2.07 0-2.86zM5.41 20L4 18.59l7.72-7.72 1.47 1.35L5.41 20z\"/>\n",
       "  </svg>\n",
       "      </button>\n",
       "      \n",
       "  <style>\n",
       "    .colab-df-container {\n",
       "      display:flex;\n",
       "      flex-wrap:wrap;\n",
       "      gap: 12px;\n",
       "    }\n",
       "\n",
       "    .colab-df-convert {\n",
       "      background-color: #E8F0FE;\n",
       "      border: none;\n",
       "      border-radius: 50%;\n",
       "      cursor: pointer;\n",
       "      display: none;\n",
       "      fill: #1967D2;\n",
       "      height: 32px;\n",
       "      padding: 0 0 0 0;\n",
       "      width: 32px;\n",
       "    }\n",
       "\n",
       "    .colab-df-convert:hover {\n",
       "      background-color: #E2EBFA;\n",
       "      box-shadow: 0px 1px 2px rgba(60, 64, 67, 0.3), 0px 1px 3px 1px rgba(60, 64, 67, 0.15);\n",
       "      fill: #174EA6;\n",
       "    }\n",
       "\n",
       "    [theme=dark] .colab-df-convert {\n",
       "      background-color: #3B4455;\n",
       "      fill: #D2E3FC;\n",
       "    }\n",
       "\n",
       "    [theme=dark] .colab-df-convert:hover {\n",
       "      background-color: #434B5C;\n",
       "      box-shadow: 0px 1px 3px 1px rgba(0, 0, 0, 0.15);\n",
       "      filter: drop-shadow(0px 1px 2px rgba(0, 0, 0, 0.3));\n",
       "      fill: #FFFFFF;\n",
       "    }\n",
       "  </style>\n",
       "\n",
       "      <script>\n",
       "        const buttonEl =\n",
       "          document.querySelector('#df-ea9c7f4e-9ba2-4aef-86d7-f46e5bb0227d button.colab-df-convert');\n",
       "        buttonEl.style.display =\n",
       "          google.colab.kernel.accessAllowed ? 'block' : 'none';\n",
       "\n",
       "        async function convertToInteractive(key) {\n",
       "          const element = document.querySelector('#df-ea9c7f4e-9ba2-4aef-86d7-f46e5bb0227d');\n",
       "          const dataTable =\n",
       "            await google.colab.kernel.invokeFunction('convertToInteractive',\n",
       "                                                     [key], {});\n",
       "          if (!dataTable) return;\n",
       "\n",
       "          const docLinkHtml = 'Like what you see? Visit the ' +\n",
       "            '<a target=\"_blank\" href=https://colab.research.google.com/notebooks/data_table.ipynb>data table notebook</a>'\n",
       "            + ' to learn more about interactive tables.';\n",
       "          element.innerHTML = '';\n",
       "          dataTable['output_type'] = 'display_data';\n",
       "          await google.colab.output.renderOutput(dataTable, element);\n",
       "          const docLink = document.createElement('div');\n",
       "          docLink.innerHTML = docLinkHtml;\n",
       "          element.appendChild(docLink);\n",
       "        }\n",
       "      </script>\n",
       "    </div>\n",
       "  </div>\n",
       "  "
      ],
      "text/plain": [
       "   cnpj_basico                      razao_social_nome_empresarial  \\\n",
       "0          306            FRANCAMAR REFRIGERACAO TECNICA S/C LTDA   \n",
       "1         1355                         BRASILEIRO & OLIVEIRA LTDA   \n",
       "2         4820  REGISTRO DE IMOVEIS, TABELIONATO 1 DE NOTAS E ...   \n",
       "3         5347       ROSELY APARECIDA MONTEIRO CALTABIANO FREITAS   \n",
       "4         6846                         BADU E FILHOS TECIDOS LTDA   \n",
       "\n",
       "   natureza_juridica  qualificacao_do_responsavel capital_social_da_empresa  \\\n",
       "0               2240                           49                      0.00   \n",
       "1               2062                           49                      0.00   \n",
       "2               3034                           32                      0.00   \n",
       "3               2135                           50                      0.00   \n",
       "4               2062                           49                   4000.00   \n",
       "\n",
       "   porte_da_empresa ente_federativo_responsavel  \n",
       "0                 1                        None  \n",
       "1                 5                        None  \n",
       "2                 5                        None  \n",
       "3                 5                        None  \n",
       "4                 1                        None  "
      ]
     },
     "execution_count": 33,
     "metadata": {},
     "output_type": "execute_result"
    }
   ],
   "source": [
    "empresas.limit(5).toPandas()"
   ]
  },
  {
   "cell_type": "code",
   "execution_count": null,
   "metadata": {
    "colab": {
     "base_uri": "https://localhost:8080/"
    },
    "id": "uH-C6hE03F1h",
    "outputId": "8f633768-17db-4988-8210-efa90318f530"
   },
   "outputs": [
    {
     "name": "stdout",
     "output_type": "stream",
     "text": [
      "root\n",
      " |-- cnpj_basico: integer (nullable = true)\n",
      " |-- razao_social_nome_empresarial: string (nullable = true)\n",
      " |-- natureza_juridica: integer (nullable = true)\n",
      " |-- qualificacao_do_responsavel: integer (nullable = true)\n",
      " |-- capital_social_da_empresa: double (nullable = true)\n",
      " |-- porte_da_empresa: integer (nullable = true)\n",
      " |-- ente_federativo_responsavel: string (nullable = true)\n",
      "\n"
     ]
    }
   ],
   "source": [
    "#alterando capital social de string para double\n",
    "empresas = empresas.withColumn('capital_social_da_empresa', empresas['capital_social_da_empresa'].cast(DoubleType()))\n",
    "empresas.printSchema()"
   ]
  },
  {
   "cell_type": "markdown",
   "metadata": {
    "id": "AKuYWleO5_px"
   },
   "source": [
    "**Modificando os datatypes - string pra date**"
   ]
  },
  {
   "cell_type": "code",
   "execution_count": null,
   "metadata": {
    "colab": {
     "base_uri": "https://localhost:8080/"
    },
    "id": "e6Gj2z-W6CWC",
    "outputId": "541f1d6e-abbd-410e-8c7a-ae13ef34721a"
   },
   "outputs": [
    {
     "name": "stdout",
     "output_type": "stream",
     "text": [
      "root\n",
      " |-- cnpj_basico: integer (nullable = true)\n",
      " |-- cnpj_ordem: integer (nullable = true)\n",
      " |-- cnpj_dv: integer (nullable = true)\n",
      " |-- identificador_matriz_filial: integer (nullable = true)\n",
      " |-- nome_fantasia: string (nullable = true)\n",
      " |-- situacao_cadastral: integer (nullable = true)\n",
      " |-- data_situacao_cadastral: date (nullable = true)\n",
      " |-- motivo_situacao_cadastral: integer (nullable = true)\n",
      " |-- nome_da_cidade_no_exterior: string (nullable = true)\n",
      " |-- pais: integer (nullable = true)\n",
      " |-- data_de_inicio_atividade: date (nullable = true)\n",
      " |-- cnae_fiscal_principal: integer (nullable = true)\n",
      " |-- cnae_fiscal_secundaria: string (nullable = true)\n",
      " |-- tipo_de_logradouro: string (nullable = true)\n",
      " |-- logradouro: string (nullable = true)\n",
      " |-- numero: string (nullable = true)\n",
      " |-- complemento: string (nullable = true)\n",
      " |-- bairro: string (nullable = true)\n",
      " |-- cep: integer (nullable = true)\n",
      " |-- uf: string (nullable = true)\n",
      " |-- municipio: integer (nullable = true)\n",
      " |-- ddd_1: string (nullable = true)\n",
      " |-- telefone_1: string (nullable = true)\n",
      " |-- ddd_2: string (nullable = true)\n",
      " |-- telefone_2: string (nullable = true)\n",
      " |-- ddd_do_fax: integer (nullable = true)\n",
      " |-- fax: string (nullable = true)\n",
      " |-- correio_eletronico: string (nullable = true)\n",
      " |-- situacao_especial: string (nullable = true)\n",
      " |-- data_da_situacao_especial: date (nullable = true)\n",
      "\n"
     ]
    }
   ],
   "source": [
    "estabelecimentos = estabelecimentos\\\n",
    "            .withColumn(\n",
    "            \"data_situacao_cadastral\",\n",
    "            f.to_date(estabelecimentos.data_situacao_cadastral.cast(StringType()), 'yyyyMMdd')\n",
    "            )\\\n",
    "            .withColumn(\n",
    "            \"data_de_inicio_atividade\",\n",
    "            f.to_date(estabelecimentos.data_de_inicio_atividade.cast(StringType()), 'yyyyMMdd')\n",
    "            )\\\n",
    "            .withColumn(\n",
    "            \"data_da_situacao_especial\",\n",
    "            f.to_date(estabelecimentos.data_da_situacao_especial.cast(StringType()), 'yyyyMMdd')\n",
    "            )\n",
    "\n",
    "estabelecimentos.printSchema()            "
   ]
  },
  {
   "cell_type": "code",
   "execution_count": null,
   "metadata": {
    "colab": {
     "base_uri": "https://localhost:8080/"
    },
    "id": "LMPzSvgN8RtL",
    "outputId": "d0967e66-a6ee-4dff-86dc-5b66fe1405bb"
   },
   "outputs": [
    {
     "name": "stdout",
     "output_type": "stream",
     "text": [
      "root\n",
      " |-- cnpj_basico: integer (nullable = true)\n",
      " |-- identificador_de_socio: integer (nullable = true)\n",
      " |-- nome_do_socio_ou_razao_social: string (nullable = true)\n",
      " |-- cnpj_ou_cpf_do_socio: string (nullable = true)\n",
      " |-- qualificacao_do_socio: integer (nullable = true)\n",
      " |-- data_de_entrada_sociedade: date (nullable = true)\n",
      " |-- pais: integer (nullable = true)\n",
      " |-- representante_legal: string (nullable = true)\n",
      " |-- nome_do_representante: string (nullable = true)\n",
      " |-- qualificacao_do_representante_legal: integer (nullable = true)\n",
      " |-- faixa_etaria: integer (nullable = true)\n",
      "\n"
     ]
    }
   ],
   "source": [
    "socios = socios.withColumn('data_de_entrada_sociedade', f.to_date(socios.data_de_entrada_sociedade.cast(StringType()), 'yyyyMMdd'))\n",
    "socios.printSchema()"
   ]
  },
  {
   "cell_type": "markdown",
   "metadata": {
    "id": "4t_nB3mj_VnI"
   },
   "source": [
    "**Selecionado Informações**"
   ]
  },
  {
   "cell_type": "code",
   "execution_count": null,
   "metadata": {
    "colab": {
     "base_uri": "https://localhost:8080/"
    },
    "id": "5mV585-o9sH2",
    "outputId": "d1f312e8-7720-496a-866d-4cbcce7cf907"
   },
   "outputs": [
    {
     "name": "stdout",
     "output_type": "stream",
     "text": [
      "+-----------+--------------------------------------------------------------------------------------------+-----------------+---------------------------+-------------------------+----------------+---------------------------+\n",
      "|cnpj_basico|razao_social_nome_empresarial                                                               |natureza_juridica|qualificacao_do_responsavel|capital_social_da_empresa|porte_da_empresa|ente_federativo_responsavel|\n",
      "+-----------+--------------------------------------------------------------------------------------------+-----------------+---------------------------+-------------------------+----------------+---------------------------+\n",
      "|306        |FRANCAMAR REFRIGERACAO TECNICA S/C LTDA                                                     |2240             |49                         |0.0                      |1               |null                       |\n",
      "|1355       |BRASILEIRO & OLIVEIRA LTDA                                                                  |2062             |49                         |0.0                      |5               |null                       |\n",
      "|4820       |REGISTRO DE IMOVEIS, TABELIONATO 1 DE NOTAS E TABELIONATO E REGISTRO DE CONSTRATOS MARITIMOS|3034             |32                         |0.0                      |5               |null                       |\n",
      "|5347       |ROSELY APARECIDA MONTEIRO CALTABIANO FREITAS                                                |2135             |50                         |0.0                      |5               |null                       |\n",
      "|6846       |BADU E FILHOS TECIDOS LTDA                                                                  |2062             |49                         |4000.0                   |1               |null                       |\n",
      "|8416       |ELETRICA RUBI LTDA                                                                          |2062             |49                         |0.0                      |5               |null                       |\n",
      "|8992       |SHIROMA VEICULOS LTDA.                                                                      |2062             |49                         |0.0                      |5               |null                       |\n",
      "|9091       |CONTATOS BAR E LANCHONETE LTDA                                                              |2062             |49                         |0.0                      |5               |null                       |\n",
      "|9614       |ANTONIA APARECIDA DE SOUZA ULIANA                                                           |2135             |50                         |0.0                      |5               |null                       |\n",
      "|9896       |DORACY CORAT DA COSTA                                                                       |2135             |50                         |0.0                      |5               |null                       |\n",
      "+-----------+--------------------------------------------------------------------------------------------+-----------------+---------------------------+-------------------------+----------------+---------------------------+\n",
      "only showing top 10 rows\n",
      "\n"
     ]
    }
   ],
   "source": [
    "empresas.select('*').show(10, False) #false pra nao ficar informações truncadas na visualização"
   ]
  },
  {
   "cell_type": "code",
   "execution_count": null,
   "metadata": {
    "colab": {
     "base_uri": "https://localhost:8080/"
    },
    "id": "fPY-Addh_2OW",
    "outputId": "43095f51-f8ed-400f-908d-613b77737e4c"
   },
   "outputs": [
    {
     "name": "stdout",
     "output_type": "stream",
     "text": [
      "+-------------------------------+------------+--------------+\n",
      "|nome_do_socio_ou_razao_social  |faixa_etaria|ano_de_entrada|\n",
      "+-------------------------------+------------+--------------+\n",
      "|LILIANA PATRICIA GUASTAVINO    |7           |1994          |\n",
      "|CRISTINA HUNDERTMARK           |7           |1994          |\n",
      "|CELSO EDUARDO DE CASTRO STEPHAN|8           |1994          |\n",
      "|EDUARDO BERRINGER STEPHAN      |5           |1994          |\n",
      "|HANNE MAHFOUD FADEL            |8           |1994          |\n",
      "+-------------------------------+------------+--------------+\n",
      "only showing top 5 rows\n",
      "\n"
     ]
    }
   ],
   "source": [
    "socios.select('nome_do_socio_ou_razao_social', 'faixa_etaria', f.year('data_de_entrada_sociedade').alias('ano_de_entrada'))\\\n",
    "  .show(5, False)"
   ]
  },
  {
   "cell_type": "code",
   "execution_count": null,
   "metadata": {
    "colab": {
     "base_uri": "https://localhost:8080/"
    },
    "id": "8WxVGi3CA-Jl",
    "outputId": "14cc58c0-71c3-437f-9922-124dcaa14994"
   },
   "outputs": [
    {
     "name": "stdout",
     "output_type": "stream",
     "text": [
      "+-----------------+---------+-----------------------+-----------------------+\n",
      "|nome_fantasia    |municipio|ano_de_inicio_atividade|mes_de_inicio_atividade|\n",
      "+-----------------+---------+-----------------------+-----------------------+\n",
      "|PIRAMIDE M. C.   |7107     |1994                   |5                      |\n",
      "|null             |7107     |1994                   |5                      |\n",
      "|null             |7107     |1994                   |5                      |\n",
      "|null             |7107     |1994                   |5                      |\n",
      "|EMBROIDERY & GIFT|7075     |1995                   |5                      |\n",
      "|null             |7075     |1999                   |7                      |\n",
      "|EMBROIDERY & GIFT|7075     |1995                   |4                      |\n",
      "|null             |7075     |1994                   |5                      |\n",
      "|KOLVOX           |7107     |1994                   |5                      |\n",
      "|PROLAV           |7107     |1994                   |5                      |\n",
      "+-----------------+---------+-----------------------+-----------------------+\n",
      "only showing top 10 rows\n",
      "\n"
     ]
    }
   ],
   "source": [
    "estabelecimentos\\\n",
    "  .select('nome_fantasia', 'municipio', f.year('data_de_inicio_atividade').alias('ano_de_inicio_atividade'),\\\n",
    "          f.month('data_de_inicio_atividade').alias('mes_de_inicio_atividade'))\\\n",
    "          .show(10, False)"
   ]
  },
  {
   "cell_type": "markdown",
   "metadata": {
    "id": "_YmCbM1_Vp6d"
   },
   "source": [
    "**Verificando dados null e nan**"
   ]
  },
  {
   "cell_type": "markdown",
   "metadata": {
    "id": "PyFIxpwhapjx"
   },
   "source": [
    "Dentro deste método, faremos uma contagem dos valores null ou NaN. Para isso, criaremos uma lista [] através do recurso List comprehension, do Python, e usaremos um for c in socios.columns para percorrê-la. Basicamente, o for irá percorrer as colunas do dataframe e retornar uma lista com os nomes dessas colunas. No entanto, não são os nomes que queremos visualizar, mas sim a contagem de valores nulos.\n",
    "\n",
    "Dentro desta lista, chamaremos a função contadora f.count() e o método .alias(), que receberá o parâmetro c, informando que este será o nome usado para nos referirmos a cada coluna.\n",
    "A função contadora f.count() receberá f.when(), que assemelha-se a uma condicional no sentido de que, ao encontrar determinado valor, outro seja atribuído. Sendo assim, ao identificar um dado nulo na coluna, será atribuído o valor +1 para a contagem. Para que isso funcione, esta função recebe dois argumentos: f.isnull(c) - que testará se o dado da coluna é nulo - e 1 - valor que deve ser atribuído caso o argumento de teste seja verdadeiro."
   ]
  },
  {
   "cell_type": "code",
   "execution_count": null,
   "metadata": {
    "colab": {
     "base_uri": "https://localhost:8080/"
    },
    "id": "1-58E3VHB9xe",
    "outputId": "e42146df-d14b-4b10-b81a-985f2053bf7f"
   },
   "outputs": [
    {
     "name": "stdout",
     "output_type": "stream",
     "text": [
      "+-----------+----------------------+-----------------------------+--------------------+---------------------+-------------------------+-------+-------------------+---------------------+-----------------------------------+------------+\n",
      "|cnpj_basico|identificador_de_socio|nome_do_socio_ou_razao_social|cnpj_ou_cpf_do_socio|qualificacao_do_socio|data_de_entrada_sociedade|   pais|representante_legal|nome_do_representante|qualificacao_do_representante_legal|faixa_etaria|\n",
      "+-----------+----------------------+-----------------------------+--------------------+---------------------+-------------------------+-------+-------------------+---------------------+-----------------------------------+------------+\n",
      "|          0|                     0|                          208|                1234|                    0|                        1|2038255|                  0|              1995432|                                  0|           0|\n",
      "+-----------+----------------------+-----------------------------+--------------------+---------------------+-------------------------+-------+-------------------+---------------------+-----------------------------------+------------+\n",
      "\n"
     ]
    }
   ],
   "source": [
    "socios.select(\\\n",
    "              [f.count(f.when(f.isnull(c), 1)).alias(c)\\\n",
    "               for c in socios.columns])\\\n",
    "              .show()           \n",
    "              "
   ]
  },
  {
   "cell_type": "code",
   "execution_count": null,
   "metadata": {
    "colab": {
     "base_uri": "https://localhost:8080/"
    },
    "id": "8X_LfWFPWgt0",
    "outputId": "7a6299f2-9363-4fc5-d6aa-a28703852ef2"
   },
   "outputs": [
    {
     "name": "stdout",
     "output_type": "stream",
     "text": [
      "+-----------+-----------------------------+-----------------+---------------------------+-------------------------+----------------+---------------------------+\n",
      "|cnpj_basico|razao_social_nome_empresarial|natureza_juridica|qualificacao_do_responsavel|capital_social_da_empresa|porte_da_empresa|ente_federativo_responsavel|\n",
      "+-----------+-----------------------------+-----------------+---------------------------+-------------------------+----------------+---------------------------+\n",
      "|          0|                            0|                0|                          0|                        0|            5985|                    4579678|\n",
      "+-----------+-----------------------------+-----------------+---------------------------+-------------------------+----------------+---------------------------+\n",
      "\n"
     ]
    }
   ],
   "source": [
    "empresas.select(\\\n",
    "              [f.count(f.when(f.isnull(c), 1)).alias(c)\\\n",
    "               for c in empresas.columns])\\\n",
    "              .show()"
   ]
  },
  {
   "cell_type": "code",
   "execution_count": null,
   "metadata": {
    "colab": {
     "base_uri": "https://localhost:8080/"
    },
    "id": "8sQNxN1ucx7B",
    "outputId": "8716760d-255a-48c2-b84b-ca31c5b1153c"
   },
   "outputs": [
    {
     "name": "stdout",
     "output_type": "stream",
     "text": [
      "+-----------+----------+-------+---------------------------+-------------+------------------+-----------------------+-------------------------+--------------------------+-------+------------------------+---------------------+----------------------+------------------+----------+------+-----------+------+-----+---+---------+-------+----------+-------+----------+----------+-------+------------------+-----------------+-------------------------+\n",
      "|cnpj_basico|cnpj_ordem|cnpj_dv|identificador_matriz_filial|nome_fantasia|situacao_cadastral|data_situacao_cadastral|motivo_situacao_cadastral|nome_da_cidade_no_exterior|   pais|data_de_inicio_atividade|cnae_fiscal_principal|cnae_fiscal_secundaria|tipo_de_logradouro|logradouro|numero|complemento|bairro|  cep| uf|municipio|  ddd_1|telefone_1|  ddd_2|telefone_2|ddd_do_fax|    fax|correio_eletronico|situacao_especial|data_da_situacao_especial|\n",
      "+-----------+----------+-------+---------------------------+-------------+------------------+-----------------------+-------------------------+--------------------------+-------+------------------------+---------------------+----------------------+------------------+----------+------+-----------+------+-----+---+---------+-------+----------+-------+----------+----------+-------+------------------+-----------------+-------------------------+\n",
      "|          0|         0|      0|                          0|      2014706|                 0|                  16195|                        0|                   4833519|4823786|                       1|                    0|               2780434|             91499|       193|     0|    2831800| 37964|15033|  0|        0|1251627|   1251623|4424413|   4425166|   4132454|4131990|           2304672|          4836208|                  4836208|\n",
      "+-----------+----------+-------+---------------------------+-------------+------------------+-----------------------+-------------------------+--------------------------+-------+------------------------+---------------------+----------------------+------------------+----------+------+-----------+------+-----+---+---------+-------+----------+-------+----------+----------+-------+------------------+-----------------+-------------------------+\n",
      "\n"
     ]
    }
   ],
   "source": [
    "estabelecimentos.select(\\\n",
    "              [f.count(f.when(f.isnull(c), 1)).alias(c)\\\n",
    "               for c in estabelecimentos.columns])\\\n",
    "              .show()"
   ]
  },
  {
   "cell_type": "markdown",
   "metadata": {
    "id": "F0lArE_ghI85"
   },
   "source": [
    "**Ordenando os dados**"
   ]
  },
  {
   "cell_type": "code",
   "execution_count": null,
   "metadata": {
    "colab": {
     "base_uri": "https://localhost:8080/"
    },
    "id": "NISF5PlLgo_s",
    "outputId": "1e32768c-7342-4753-caae-c4387c9e36a0"
   },
   "outputs": [
    {
     "name": "stdout",
     "output_type": "stream",
     "text": [
      "+-----------------------------+------------+--------------+\n",
      "|nome_do_socio_ou_razao_social|faixa_etaria|ano_de_entrada|\n",
      "+-----------------------------+------------+--------------+\n",
      "|EDGAR FRANCISCO DA SILVA     |9           |2021          |\n",
      "|WILLIAM WHITING BEACH VEALE  |9           |2021          |\n",
      "|ANTONIO TAVARES DE ANDRADE   |9           |2021          |\n",
      "|AURA MARIA DE ANDRADE        |9           |2021          |\n",
      "|ANTONIA DE SOUSA VIEIRA      |9           |2021          |\n",
      "+-----------------------------+------------+--------------+\n",
      "only showing top 5 rows\n",
      "\n"
     ]
    }
   ],
   "source": [
    "socios.select('nome_do_socio_ou_razao_social', 'faixa_etaria', f.year('data_de_entrada_sociedade').alias('ano_de_entrada'))\\\n",
    "            .orderBy(['ano_de_entrada', 'faixa_etaria'], ascending=[False, False])\\\n",
    "            .show(5, False)"
   ]
  },
  {
   "cell_type": "code",
   "execution_count": null,
   "metadata": {
    "colab": {
     "base_uri": "https://localhost:8080/"
    },
    "id": "WQDRbeasiQcA",
    "outputId": "b06ef287-56e3-49b6-841b-0613c9d8b585"
   },
   "outputs": [
    {
     "name": "stdout",
     "output_type": "stream",
     "text": [
      "+-----------+-------------------+----------------+\n",
      "|complemento|bairro             |data_situ_especi|\n",
      "+-----------+-------------------+----------------+\n",
      "|null       |VILA SAO JORGE     |2021            |\n",
      "|QUIOSQUE   |VILA BEATRIZ       |2021            |\n",
      "|CASA  06   |NOVO RIO DAS OSTRAS|2021            |\n",
      "|null       |JARDIM ALGARVE     |2021            |\n",
      "|null       |CENTRO             |2021            |\n",
      "+-----------+-------------------+----------------+\n",
      "only showing top 5 rows\n",
      "\n"
     ]
    }
   ],
   "source": [
    "estabelecimentos.select('complemento', 'bairro', f.year('data_da_situacao_especial').alias('data_situ_especi'))\\\n",
    "            .orderBy(['data_situ_especi', 'bairro'], ascending=[False, False])\\\n",
    "            .show(5, False)"
   ]
  },
  {
   "cell_type": "code",
   "execution_count": null,
   "metadata": {
    "colab": {
     "base_uri": "https://localhost:8080/"
    },
    "id": "sAPXTMcmjSAn",
    "outputId": "c6e1c5ce-d41e-4a4b-dc18-7a929c08847c"
   },
   "outputs": [
    {
     "name": "stdout",
     "output_type": "stream",
     "text": [
      "+-----------+-------------------------------------------------+-----------------+---------------------------+-------------------------+----------------+---------------------------+\n",
      "|cnpj_basico|razao_social_nome_empresarial                    |natureza_juridica|qualificacao_do_responsavel|capital_social_da_empresa|porte_da_empresa|ente_federativo_responsavel|\n",
      "+-----------+-------------------------------------------------+-----------------+---------------------------+-------------------------+----------------+---------------------------+\n",
      "|11463784   |CONSTRUTORA SCHNEIDER & SANTOS LTDA              |2062             |49                         |3.22014670262E11         |1               |null                       |\n",
      "|331465     |INCOMPLAST INDUSTRIA DE EMBALAGENS PLASTICAS LTDA|2062             |49                         |2.52006125741E11         |3               |null                       |\n",
      "|7954317    |MAISON AGENCIA DE VIAGENS E TURISMO LTDA         |2062             |49                         |6.6437504072E10          |1               |null                       |\n",
      "|6299045    |MARIA DOS ANJOS BISPO SANTOS                     |2135             |50                         |5.4101406554E10          |1               |null                       |\n",
      "|11844432   |A & N YAMAGUTY LTDA                              |2062             |49                         |5.3201623483E10          |1               |null                       |\n",
      "+-----------+-------------------------------------------------+-----------------+---------------------------+-------------------------+----------------+---------------------------+\n",
      "only showing top 5 rows\n",
      "\n"
     ]
    }
   ],
   "source": [
    "empresas.orderBy(['capital_social_da_empresa', 'porte_da_empresa'], ascending=[False, False])\\\n",
    "              .show(5, False)"
   ]
  },
  {
   "cell_type": "markdown",
   "metadata": {
    "id": "lUzJQYF_4fDE"
   },
   "source": [
    "**Filtrando os dados**"
   ]
  },
  {
   "cell_type": "code",
   "execution_count": null,
   "metadata": {
    "colab": {
     "base_uri": "https://localhost:8080/"
    },
    "id": "hBGV5v1Jj79G",
    "outputId": "93316ca8-8070-4d74-9adb-f3dc947b5caf"
   },
   "outputs": [
    {
     "name": "stdout",
     "output_type": "stream",
     "text": [
      "+-----------+------------------------------------+-----------------+---------------------------+-------------------------+----------------+---------------------------+\n",
      "|cnpj_basico|razao_social_nome_empresarial       |natureza_juridica|qualificacao_do_responsavel|capital_social_da_empresa|porte_da_empresa|ente_federativo_responsavel|\n",
      "+-----------+------------------------------------+-----------------+---------------------------+-------------------------+----------------+---------------------------+\n",
      "|17350147   |ERIK MARCELO DOS SANTOS 42107848858 |2135             |50                         |50.0                     |1               |null                       |\n",
      "|17833214   |ALEXANDRE MACHADO LIMA 73750123772  |2135             |50                         |50.0                     |1               |null                       |\n",
      "|20860830   |YASMIN MOURA DA FONSECA 13457709793 |2135             |50                         |50.0                     |1               |null                       |\n",
      "|22242856   |JOAO CESAR MESSIAS 08707149883      |2135             |50                         |50.0                     |1               |null                       |\n",
      "|23238540   |EVERTON ROBERTO DA SILVA 42101963809|2135             |50                         |50.0                     |1               |null                       |\n",
      "+-----------+------------------------------------+-----------------+---------------------------+-------------------------+----------------+---------------------------+\n",
      "only showing top 5 rows\n",
      "\n"
     ]
    }
   ],
   "source": [
    "empresas\\\n",
    "  .where(\"capital_social_da_empresa = 50\")\\\n",
    "  .show(5, False)"
   ]
  },
  {
   "cell_type": "code",
   "execution_count": null,
   "metadata": {
    "colab": {
     "base_uri": "https://localhost:8080/"
    },
    "id": "l2Bg8RXbm_gi",
    "outputId": "9448165f-cbbe-4e14-c8c6-eea69f78781e"
   },
   "outputs": [
    {
     "name": "stdout",
     "output_type": "stream",
     "text": [
      "root\n",
      " |-- cnpj_basico: integer (nullable = true)\n",
      " |-- identificador_de_socio: integer (nullable = true)\n",
      " |-- nome_do_socio_ou_razao_social: string (nullable = true)\n",
      " |-- cnpj_ou_cpf_do_socio: string (nullable = true)\n",
      " |-- qualificacao_do_socio: integer (nullable = true)\n",
      " |-- data_de_entrada_sociedade: date (nullable = true)\n",
      " |-- pais: integer (nullable = true)\n",
      " |-- representante_legal: string (nullable = true)\n",
      " |-- nome_do_representante: string (nullable = true)\n",
      " |-- qualificacao_do_representante_legal: integer (nullable = true)\n",
      " |-- faixa_etaria: integer (nullable = true)\n",
      "\n"
     ]
    }
   ],
   "source": [
    "socios.printSchema()"
   ]
  },
  {
   "cell_type": "code",
   "execution_count": null,
   "metadata": {
    "colab": {
     "base_uri": "https://localhost:8080/",
     "height": 363
    },
    "id": "tMTHi0ka5jVH",
    "outputId": "e4efac07-e379-4d34-bebc-ad0ccb6f270b"
   },
   "outputs": [
    {
     "data": {
      "text/html": [
       "\n",
       "  <div id=\"df-dcc6b89a-c641-4161-a296-350622f33a43\">\n",
       "    <div class=\"colab-df-container\">\n",
       "      <div>\n",
       "<style scoped>\n",
       "    .dataframe tbody tr th:only-of-type {\n",
       "        vertical-align: middle;\n",
       "    }\n",
       "\n",
       "    .dataframe tbody tr th {\n",
       "        vertical-align: top;\n",
       "    }\n",
       "\n",
       "    .dataframe thead th {\n",
       "        text-align: right;\n",
       "    }\n",
       "</style>\n",
       "<table border=\"1\" class=\"dataframe\">\n",
       "  <thead>\n",
       "    <tr style=\"text-align: right;\">\n",
       "      <th></th>\n",
       "      <th>nome_do_socio_ou_razao_social</th>\n",
       "    </tr>\n",
       "  </thead>\n",
       "  <tbody>\n",
       "    <tr>\n",
       "      <th>0</th>\n",
       "      <td>MATHEUS ALMEIDA RIBEIRO DA SILVA</td>\n",
       "    </tr>\n",
       "    <tr>\n",
       "      <th>1</th>\n",
       "      <td>MATHEUS MASSON VIEIRA DA SILVA</td>\n",
       "    </tr>\n",
       "    <tr>\n",
       "      <th>2</th>\n",
       "      <td>MATHEUS MENDES DA CONCEICAO SILVA</td>\n",
       "    </tr>\n",
       "    <tr>\n",
       "      <th>3</th>\n",
       "      <td>MATHEUS ELIAS SILVA</td>\n",
       "    </tr>\n",
       "    <tr>\n",
       "      <th>4</th>\n",
       "      <td>MATHEUS URBANO DA SILVA</td>\n",
       "    </tr>\n",
       "    <tr>\n",
       "      <th>5</th>\n",
       "      <td>MATHEUS APARECIDO DA SILVA</td>\n",
       "    </tr>\n",
       "    <tr>\n",
       "      <th>6</th>\n",
       "      <td>MATHEUS ROQUETTE FERRATO DA SILVA</td>\n",
       "    </tr>\n",
       "    <tr>\n",
       "      <th>7</th>\n",
       "      <td>MATHEUS CAVALCANTE DIAS DA SILVA</td>\n",
       "    </tr>\n",
       "    <tr>\n",
       "      <th>8</th>\n",
       "      <td>MATHEUS RIBEIRO DA SILVA</td>\n",
       "    </tr>\n",
       "    <tr>\n",
       "      <th>9</th>\n",
       "      <td>MATHEUS APARECIDO DA SILVA</td>\n",
       "    </tr>\n",
       "  </tbody>\n",
       "</table>\n",
       "</div>\n",
       "      <button class=\"colab-df-convert\" onclick=\"convertToInteractive('df-dcc6b89a-c641-4161-a296-350622f33a43')\"\n",
       "              title=\"Convert this dataframe to an interactive table.\"\n",
       "              style=\"display:none;\">\n",
       "        \n",
       "  <svg xmlns=\"http://www.w3.org/2000/svg\" height=\"24px\"viewBox=\"0 0 24 24\"\n",
       "       width=\"24px\">\n",
       "    <path d=\"M0 0h24v24H0V0z\" fill=\"none\"/>\n",
       "    <path d=\"M18.56 5.44l.94 2.06.94-2.06 2.06-.94-2.06-.94-.94-2.06-.94 2.06-2.06.94zm-11 1L8.5 8.5l.94-2.06 2.06-.94-2.06-.94L8.5 2.5l-.94 2.06-2.06.94zm10 10l.94 2.06.94-2.06 2.06-.94-2.06-.94-.94-2.06-.94 2.06-2.06.94z\"/><path d=\"M17.41 7.96l-1.37-1.37c-.4-.4-.92-.59-1.43-.59-.52 0-1.04.2-1.43.59L10.3 9.45l-7.72 7.72c-.78.78-.78 2.05 0 2.83L4 21.41c.39.39.9.59 1.41.59.51 0 1.02-.2 1.41-.59l7.78-7.78 2.81-2.81c.8-.78.8-2.07 0-2.86zM5.41 20L4 18.59l7.72-7.72 1.47 1.35L5.41 20z\"/>\n",
       "  </svg>\n",
       "      </button>\n",
       "      \n",
       "  <style>\n",
       "    .colab-df-container {\n",
       "      display:flex;\n",
       "      flex-wrap:wrap;\n",
       "      gap: 12px;\n",
       "    }\n",
       "\n",
       "    .colab-df-convert {\n",
       "      background-color: #E8F0FE;\n",
       "      border: none;\n",
       "      border-radius: 50%;\n",
       "      cursor: pointer;\n",
       "      display: none;\n",
       "      fill: #1967D2;\n",
       "      height: 32px;\n",
       "      padding: 0 0 0 0;\n",
       "      width: 32px;\n",
       "    }\n",
       "\n",
       "    .colab-df-convert:hover {\n",
       "      background-color: #E2EBFA;\n",
       "      box-shadow: 0px 1px 2px rgba(60, 64, 67, 0.3), 0px 1px 3px 1px rgba(60, 64, 67, 0.15);\n",
       "      fill: #174EA6;\n",
       "    }\n",
       "\n",
       "    [theme=dark] .colab-df-convert {\n",
       "      background-color: #3B4455;\n",
       "      fill: #D2E3FC;\n",
       "    }\n",
       "\n",
       "    [theme=dark] .colab-df-convert:hover {\n",
       "      background-color: #434B5C;\n",
       "      box-shadow: 0px 1px 3px 1px rgba(0, 0, 0, 0.15);\n",
       "      filter: drop-shadow(0px 1px 2px rgba(0, 0, 0, 0.3));\n",
       "      fill: #FFFFFF;\n",
       "    }\n",
       "  </style>\n",
       "\n",
       "      <script>\n",
       "        const buttonEl =\n",
       "          document.querySelector('#df-dcc6b89a-c641-4161-a296-350622f33a43 button.colab-df-convert');\n",
       "        buttonEl.style.display =\n",
       "          google.colab.kernel.accessAllowed ? 'block' : 'none';\n",
       "\n",
       "        async function convertToInteractive(key) {\n",
       "          const element = document.querySelector('#df-dcc6b89a-c641-4161-a296-350622f33a43');\n",
       "          const dataTable =\n",
       "            await google.colab.kernel.invokeFunction('convertToInteractive',\n",
       "                                                     [key], {});\n",
       "          if (!dataTable) return;\n",
       "\n",
       "          const docLinkHtml = 'Like what you see? Visit the ' +\n",
       "            '<a target=\"_blank\" href=https://colab.research.google.com/notebooks/data_table.ipynb>data table notebook</a>'\n",
       "            + ' to learn more about interactive tables.';\n",
       "          element.innerHTML = '';\n",
       "          dataTable['output_type'] = 'display_data';\n",
       "          await google.colab.output.renderOutput(dataTable, element);\n",
       "          const docLink = document.createElement('div');\n",
       "          docLink.innerHTML = docLinkHtml;\n",
       "          element.appendChild(docLink);\n",
       "        }\n",
       "      </script>\n",
       "    </div>\n",
       "  </div>\n",
       "  "
      ],
      "text/plain": [
       "       nome_do_socio_ou_razao_social\n",
       "0   MATHEUS ALMEIDA RIBEIRO DA SILVA\n",
       "1     MATHEUS MASSON VIEIRA DA SILVA\n",
       "2  MATHEUS MENDES DA CONCEICAO SILVA\n",
       "3                MATHEUS ELIAS SILVA\n",
       "4            MATHEUS URBANO DA SILVA\n",
       "5         MATHEUS APARECIDO DA SILVA\n",
       "6  MATHEUS ROQUETTE FERRATO DA SILVA\n",
       "7   MATHEUS CAVALCANTE DIAS DA SILVA\n",
       "8           MATHEUS RIBEIRO DA SILVA\n",
       "9         MATHEUS APARECIDO DA SILVA"
      ]
     },
     "execution_count": 56,
     "metadata": {},
     "output_type": "execute_result"
    }
   ],
   "source": [
    "socios.select(\"nome_do_socio_ou_razao_social\")\\\n",
    "  .filter(socios.nome_do_socio_ou_razao_social.startswith(\"MATHEUS\"))\\\n",
    "  .filter(socios.nome_do_socio_ou_razao_social.endswith(\"SILVA\"))\\\n",
    "  .limit(10)\\\n",
    "  .toPandas()"
   ]
  },
  {
   "cell_type": "code",
   "execution_count": null,
   "metadata": {
    "colab": {
     "base_uri": "https://localhost:8080/"
    },
    "id": "_nemwQ9G6FPh",
    "outputId": "6d78f73e-799a-49dc-9863-73d7fd666ec4"
   },
   "outputs": [
    {
     "name": "stdout",
     "output_type": "stream",
     "text": [
      "+-------------------------------------------------+-----------------+----------------+-------------------------+\n",
      "|razao_social_nome_empresarial                    |natureza_juridica|porte_da_empresa|capital_social_da_empresa|\n",
      "+-------------------------------------------------+-----------------+----------------+-------------------------+\n",
      "|MOURA & SILVA MERCEARIA LIMITADA                 |2062             |5               |0.0                      |\n",
      "|BAR E MERCEARIA KIT LTDA                         |2062             |5               |0.0                      |\n",
      "|MERCEARIA E T S LTDA                             |2062             |1               |0.0                      |\n",
      "|ISAIAS PEREIRA DOS SANTOS MERCEARIA              |4014             |5               |0.0                      |\n",
      "|SEPETIBAO MERCEARIA LTDA                         |2062             |5               |0.0                      |\n",
      "|BAR E MERCEARIA PARATI DE TUPA LTDA              |2062             |1               |0.0                      |\n",
      "|Z.MONTEIRO BAR E MERCEARIA                       |2135             |5               |0.0                      |\n",
      "|MERCEARIA E DOCERIA ROSA DE FRANCA LTDA          |2062             |1               |0.0                      |\n",
      "|MERCEARIA BASTOS & BRITO LTDA                    |2062             |5               |0.0                      |\n",
      "|R ARAUJO MERCEARIA                               |2135             |5               |0.0                      |\n",
      "|AVICOLA E MERCEARIA ISHIZAKA LTDA                |2062             |5               |0.0                      |\n",
      "|J BATISTA DE SOUZA PADARIA LANCHONETE E MERCEARIA|2135             |1               |0.0                      |\n",
      "|M S SOBRINHO SILVA MERCEARIA                     |2135             |1               |0.0                      |\n",
      "|MERCEARIA E ACOUGUE ALVESCRISTIAN LTDA           |2062             |1               |0.0                      |\n",
      "|GENEVIA M. LINS FREIRE MERCEARIA                 |2135             |1               |0.0                      |\n",
      "+-------------------------------------------------+-----------------+----------------+-------------------------+\n",
      "only showing top 15 rows\n",
      "\n"
     ]
    }
   ],
   "source": [
    "empresas\\\n",
    "    .select('razao_social_nome_empresarial', 'natureza_juridica', 'porte_da_empresa', 'capital_social_da_empresa')\\\n",
    "    .filter(f.upper(empresas['razao_social_nome_empresarial']).like('%MERCEARIA%'))\\\n",
    "    .show(15, False)"
   ]
  },
  {
   "cell_type": "markdown",
   "metadata": {
    "id": "i4BfNgT69t7b"
   },
   "source": [
    "**Agregação e Junções**"
   ]
  },
  {
   "cell_type": "markdown",
   "metadata": {
    "id": "JY1LvAnk92pz"
   },
   "source": [
    "**Sumarizando os dados**"
   ]
  },
  {
   "cell_type": "code",
   "execution_count": null,
   "metadata": {
    "colab": {
     "base_uri": "https://localhost:8080/"
    },
    "id": "pt0Da1ov9RgL",
    "outputId": "7be7264c-c0fc-40a8-ff49-d8d64386a04e"
   },
   "outputs": [
    {
     "name": "stdout",
     "output_type": "stream",
     "text": [
      "+--------------+------+\n",
      "|ano_de_entrada| count|\n",
      "+--------------+------+\n",
      "|          2010| 79337|\n",
      "|          2011| 83906|\n",
      "|          2012| 80101|\n",
      "|          2013| 83919|\n",
      "|          2014| 80590|\n",
      "|          2015| 80906|\n",
      "|          2016| 81587|\n",
      "|          2017| 90221|\n",
      "|          2018| 99935|\n",
      "|          2019|118248|\n",
      "|          2020|125927|\n",
      "|          2021| 56316|\n",
      "+--------------+------+\n",
      "\n"
     ]
    }
   ],
   "source": [
    "socios\\\n",
    "  .select(f.year('data_de_entrada_sociedade').alias('ano_de_entrada'))\\\n",
    "  .where('ano_de_entrada >= 2010')\\\n",
    "  .groupBy('ano_de_entrada')\\\n",
    "  .count()\\\n",
    "  .orderBy('ano_de_entrada', ascending = True)\\\n",
    "  .show()"
   ]
  },
  {
   "cell_type": "code",
   "execution_count": null,
   "metadata": {
    "colab": {
     "base_uri": "https://localhost:8080/"
    },
    "id": "Ol3GbKdQ-zDX",
    "outputId": "d88298c6-ef96-4776-f908-ccdf25b50278"
   },
   "outputs": [
    {
     "name": "stdout",
     "output_type": "stream",
     "text": [
      "+----------------+--------------------+----------+\n",
      "|porte_da_empresa|capital_social_medio|frequencia|\n",
      "+----------------+--------------------+----------+\n",
      "|            null|    8.35421888053467|      5985|\n",
      "|               1|  339994.53313506936|   3129043|\n",
      "|               3|  2601001.7677092673|    115151|\n",
      "|               5|   708660.4208249798|   1335500|\n",
      "+----------------+--------------------+----------+\n",
      "\n"
     ]
    }
   ],
   "source": [
    "empresas\\\n",
    "  .select('cnpj_basico', 'porte_da_empresa', 'capital_social_da_empresa')\\\n",
    "  .groupBy('porte_da_empresa')\\\n",
    "  .agg(\n",
    "      f.avg('capital_social_da_empresa').alias('capital_social_medio'),\n",
    "      f.count('cnpj_basico').alias('frequencia')\n",
    "  )\\\n",
    "  .orderBy('porte_da_empresa', ascending = True)\\\n",
    "  .show()"
   ]
  },
  {
   "cell_type": "code",
   "execution_count": null,
   "metadata": {
    "colab": {
     "base_uri": "https://localhost:8080/"
    },
    "id": "pE-JeJKv_9s8",
    "outputId": "f04ffa77-649c-4f0c-abc1-3c196b35f06e"
   },
   "outputs": [
    {
     "name": "stdout",
     "output_type": "stream",
     "text": [
      "+-------+-------------------------+\n",
      "|summary|capital_social_da_empresa|\n",
      "+-------+-------------------------+\n",
      "|  count|                  4585679|\n",
      "|   mean|        503694.5478542675|\n",
      "| stddev|     2.1118691490537405E8|\n",
      "|    min|                      0.0|\n",
      "|    25%|                      0.0|\n",
      "|    50%|                   1000.0|\n",
      "|    75%|                   7000.0|\n",
      "|    max|         3.22014670262E11|\n",
      "+-------+-------------------------+\n",
      "\n"
     ]
    }
   ],
   "source": [
    "empresas\\\n",
    "  .select('capital_social_da_empresa')\\\n",
    "  .summary()\\\n",
    "  .show()"
   ]
  },
  {
   "cell_type": "markdown",
   "metadata": {
    "id": "fzHf89KvKFdJ"
   },
   "source": [
    "**Jutando DF**"
   ]
  },
  {
   "cell_type": "code",
   "execution_count": null,
   "metadata": {
    "colab": {
     "base_uri": "https://localhost:8080/"
    },
    "id": "-qtTk5scAUKC",
    "outputId": "5623004a-219d-4700-a2f6-b2465b502f17"
   },
   "outputs": [
    {
     "name": "stdout",
     "output_type": "stream",
     "text": [
      "root\n",
      " |-- cnpj_basico: integer (nullable = true)\n",
      " |-- cnpj_ordem: integer (nullable = true)\n",
      " |-- cnpj_dv: integer (nullable = true)\n",
      " |-- identificador_matriz_filial: integer (nullable = true)\n",
      " |-- nome_fantasia: string (nullable = true)\n",
      " |-- situacao_cadastral: integer (nullable = true)\n",
      " |-- data_situacao_cadastral: date (nullable = true)\n",
      " |-- motivo_situacao_cadastral: integer (nullable = true)\n",
      " |-- nome_da_cidade_no_exterior: string (nullable = true)\n",
      " |-- pais: integer (nullable = true)\n",
      " |-- data_de_inicio_atividade: date (nullable = true)\n",
      " |-- cnae_fiscal_principal: integer (nullable = true)\n",
      " |-- cnae_fiscal_secundaria: string (nullable = true)\n",
      " |-- tipo_de_logradouro: string (nullable = true)\n",
      " |-- logradouro: string (nullable = true)\n",
      " |-- numero: string (nullable = true)\n",
      " |-- complemento: string (nullable = true)\n",
      " |-- bairro: string (nullable = true)\n",
      " |-- cep: integer (nullable = true)\n",
      " |-- uf: string (nullable = true)\n",
      " |-- municipio: integer (nullable = true)\n",
      " |-- ddd_1: string (nullable = true)\n",
      " |-- telefone_1: string (nullable = true)\n",
      " |-- ddd_2: string (nullable = true)\n",
      " |-- telefone_2: string (nullable = true)\n",
      " |-- ddd_do_fax: integer (nullable = true)\n",
      " |-- fax: string (nullable = true)\n",
      " |-- correio_eletronico: string (nullable = true)\n",
      " |-- situacao_especial: string (nullable = true)\n",
      " |-- data_da_situacao_especial: date (nullable = true)\n",
      " |-- razao_social_nome_empresarial: string (nullable = true)\n",
      " |-- natureza_juridica: integer (nullable = true)\n",
      " |-- qualificacao_do_responsavel: integer (nullable = true)\n",
      " |-- capital_social_da_empresa: double (nullable = true)\n",
      " |-- porte_da_empresa: integer (nullable = true)\n",
      " |-- ente_federativo_responsavel: string (nullable = true)\n",
      "\n"
     ]
    }
   ],
   "source": [
    "empresas_join = estabelecimentos.join(empresas, 'cnpj_basico', how = 'inner')\n",
    "empresas_join.printSchema()"
   ]
  },
  {
   "cell_type": "code",
   "execution_count": null,
   "metadata": {
    "id": "SHDsRJxUOSL-"
   },
   "outputs": [],
   "source": [
    "freq = empresas_join\\\n",
    "    .select(\n",
    "        'cnpj_basico', \n",
    "        f.year('data_de_inicio_atividade').alias('data_de_inicio')\n",
    "    )\\\n",
    "    .where('data_de_inicio >= 2010')\\\n",
    "    .groupBy('data_de_inicio')\\\n",
    "    .agg(f.count(\"cnpj_basico\").alias(\"frequencia\"))\\\n",
    "    .orderBy('data_de_inicio', ascending=True)"
   ]
  },
  {
   "cell_type": "code",
   "execution_count": null,
   "metadata": {
    "colab": {
     "base_uri": "https://localhost:8080/",
     "height": 426
    },
    "id": "op1BH89sPJRW",
    "outputId": "47ce594c-569b-45c5-e0c5-9113168c7aac"
   },
   "outputs": [
    {
     "data": {
      "text/html": [
       "\n",
       "  <div id=\"df-5c8ea436-27f2-42bc-8502-46545a72a125\">\n",
       "    <div class=\"colab-df-container\">\n",
       "      <div>\n",
       "<style scoped>\n",
       "    .dataframe tbody tr th:only-of-type {\n",
       "        vertical-align: middle;\n",
       "    }\n",
       "\n",
       "    .dataframe tbody tr th {\n",
       "        vertical-align: top;\n",
       "    }\n",
       "\n",
       "    .dataframe thead th {\n",
       "        text-align: right;\n",
       "    }\n",
       "</style>\n",
       "<table border=\"1\" class=\"dataframe\">\n",
       "  <thead>\n",
       "    <tr style=\"text-align: right;\">\n",
       "      <th></th>\n",
       "      <th>data_de_inicio</th>\n",
       "      <th>frequencia</th>\n",
       "    </tr>\n",
       "  </thead>\n",
       "  <tbody>\n",
       "    <tr>\n",
       "      <th>0</th>\n",
       "      <td>2010</td>\n",
       "      <td>154159</td>\n",
       "    </tr>\n",
       "    <tr>\n",
       "      <th>1</th>\n",
       "      <td>2011</td>\n",
       "      <td>172677</td>\n",
       "    </tr>\n",
       "    <tr>\n",
       "      <th>2</th>\n",
       "      <td>2012</td>\n",
       "      <td>232480</td>\n",
       "    </tr>\n",
       "    <tr>\n",
       "      <th>3</th>\n",
       "      <td>2013</td>\n",
       "      <td>198424</td>\n",
       "    </tr>\n",
       "    <tr>\n",
       "      <th>4</th>\n",
       "      <td>2014</td>\n",
       "      <td>202276</td>\n",
       "    </tr>\n",
       "    <tr>\n",
       "      <th>5</th>\n",
       "      <td>2015</td>\n",
       "      <td>212523</td>\n",
       "    </tr>\n",
       "    <tr>\n",
       "      <th>6</th>\n",
       "      <td>2016</td>\n",
       "      <td>265417</td>\n",
       "    </tr>\n",
       "    <tr>\n",
       "      <th>7</th>\n",
       "      <td>2017</td>\n",
       "      <td>237292</td>\n",
       "    </tr>\n",
       "    <tr>\n",
       "      <th>8</th>\n",
       "      <td>2018</td>\n",
       "      <td>275435</td>\n",
       "    </tr>\n",
       "    <tr>\n",
       "      <th>9</th>\n",
       "      <td>2019</td>\n",
       "      <td>325922</td>\n",
       "    </tr>\n",
       "    <tr>\n",
       "      <th>10</th>\n",
       "      <td>2020</td>\n",
       "      <td>400654</td>\n",
       "    </tr>\n",
       "    <tr>\n",
       "      <th>11</th>\n",
       "      <td>2021</td>\n",
       "      <td>153275</td>\n",
       "    </tr>\n",
       "  </tbody>\n",
       "</table>\n",
       "</div>\n",
       "      <button class=\"colab-df-convert\" onclick=\"convertToInteractive('df-5c8ea436-27f2-42bc-8502-46545a72a125')\"\n",
       "              title=\"Convert this dataframe to an interactive table.\"\n",
       "              style=\"display:none;\">\n",
       "        \n",
       "  <svg xmlns=\"http://www.w3.org/2000/svg\" height=\"24px\"viewBox=\"0 0 24 24\"\n",
       "       width=\"24px\">\n",
       "    <path d=\"M0 0h24v24H0V0z\" fill=\"none\"/>\n",
       "    <path d=\"M18.56 5.44l.94 2.06.94-2.06 2.06-.94-2.06-.94-.94-2.06-.94 2.06-2.06.94zm-11 1L8.5 8.5l.94-2.06 2.06-.94-2.06-.94L8.5 2.5l-.94 2.06-2.06.94zm10 10l.94 2.06.94-2.06 2.06-.94-2.06-.94-.94-2.06-.94 2.06-2.06.94z\"/><path d=\"M17.41 7.96l-1.37-1.37c-.4-.4-.92-.59-1.43-.59-.52 0-1.04.2-1.43.59L10.3 9.45l-7.72 7.72c-.78.78-.78 2.05 0 2.83L4 21.41c.39.39.9.59 1.41.59.51 0 1.02-.2 1.41-.59l7.78-7.78 2.81-2.81c.8-.78.8-2.07 0-2.86zM5.41 20L4 18.59l7.72-7.72 1.47 1.35L5.41 20z\"/>\n",
       "  </svg>\n",
       "      </button>\n",
       "      \n",
       "  <style>\n",
       "    .colab-df-container {\n",
       "      display:flex;\n",
       "      flex-wrap:wrap;\n",
       "      gap: 12px;\n",
       "    }\n",
       "\n",
       "    .colab-df-convert {\n",
       "      background-color: #E8F0FE;\n",
       "      border: none;\n",
       "      border-radius: 50%;\n",
       "      cursor: pointer;\n",
       "      display: none;\n",
       "      fill: #1967D2;\n",
       "      height: 32px;\n",
       "      padding: 0 0 0 0;\n",
       "      width: 32px;\n",
       "    }\n",
       "\n",
       "    .colab-df-convert:hover {\n",
       "      background-color: #E2EBFA;\n",
       "      box-shadow: 0px 1px 2px rgba(60, 64, 67, 0.3), 0px 1px 3px 1px rgba(60, 64, 67, 0.15);\n",
       "      fill: #174EA6;\n",
       "    }\n",
       "\n",
       "    [theme=dark] .colab-df-convert {\n",
       "      background-color: #3B4455;\n",
       "      fill: #D2E3FC;\n",
       "    }\n",
       "\n",
       "    [theme=dark] .colab-df-convert:hover {\n",
       "      background-color: #434B5C;\n",
       "      box-shadow: 0px 1px 3px 1px rgba(0, 0, 0, 0.15);\n",
       "      filter: drop-shadow(0px 1px 2px rgba(0, 0, 0, 0.3));\n",
       "      fill: #FFFFFF;\n",
       "    }\n",
       "  </style>\n",
       "\n",
       "      <script>\n",
       "        const buttonEl =\n",
       "          document.querySelector('#df-5c8ea436-27f2-42bc-8502-46545a72a125 button.colab-df-convert');\n",
       "        buttonEl.style.display =\n",
       "          google.colab.kernel.accessAllowed ? 'block' : 'none';\n",
       "\n",
       "        async function convertToInteractive(key) {\n",
       "          const element = document.querySelector('#df-5c8ea436-27f2-42bc-8502-46545a72a125');\n",
       "          const dataTable =\n",
       "            await google.colab.kernel.invokeFunction('convertToInteractive',\n",
       "                                                     [key], {});\n",
       "          if (!dataTable) return;\n",
       "\n",
       "          const docLinkHtml = 'Like what you see? Visit the ' +\n",
       "            '<a target=\"_blank\" href=https://colab.research.google.com/notebooks/data_table.ipynb>data table notebook</a>'\n",
       "            + ' to learn more about interactive tables.';\n",
       "          element.innerHTML = '';\n",
       "          dataTable['output_type'] = 'display_data';\n",
       "          await google.colab.output.renderOutput(dataTable, element);\n",
       "          const docLink = document.createElement('div');\n",
       "          docLink.innerHTML = docLinkHtml;\n",
       "          element.appendChild(docLink);\n",
       "        }\n",
       "      </script>\n",
       "    </div>\n",
       "  </div>\n",
       "  "
      ],
      "text/plain": [
       "    data_de_inicio  frequencia\n",
       "0             2010      154159\n",
       "1             2011      172677\n",
       "2             2012      232480\n",
       "3             2013      198424\n",
       "4             2014      202276\n",
       "5             2015      212523\n",
       "6             2016      265417\n",
       "7             2017      237292\n",
       "8             2018      275435\n",
       "9             2019      325922\n",
       "10            2020      400654\n",
       "11            2021      153275"
      ]
     },
     "execution_count": 63,
     "metadata": {},
     "output_type": "execute_result"
    }
   ],
   "source": [
    "freq.toPandas()"
   ]
  },
  {
   "cell_type": "code",
   "execution_count": null,
   "metadata": {
    "colab": {
     "base_uri": "https://localhost:8080/"
    },
    "id": "QncOStJaPKlN",
    "outputId": "85a15b54-d448-43b1-e278-980e2e8e5960"
   },
   "outputs": [
    {
     "name": "stdout",
     "output_type": "stream",
     "text": [
      "+--------------+----------+\n",
      "|data_de_inicio|frequencia|\n",
      "+--------------+----------+\n",
      "|          2010|    154159|\n",
      "|          2011|    172677|\n",
      "|          2012|    232480|\n",
      "|          2013|    198424|\n",
      "|          2014|    202276|\n",
      "|          2015|    212523|\n",
      "|          2016|    265417|\n",
      "|          2017|    237292|\n",
      "|          2018|    275435|\n",
      "|          2019|    325922|\n",
      "|          2020|    400654|\n",
      "|          2021|    153275|\n",
      "|         Total|   2830534|\n",
      "+--------------+----------+\n",
      "\n"
     ]
    }
   ],
   "source": [
    "freq.union(\n",
    "    freq.select(\n",
    "        f.lit('Total').alias('data_de_inicio'),\n",
    "        f.sum(freq.frequencia).alias('frequencia')   \n",
    "    )\n",
    ").show()"
   ]
  },
  {
   "cell_type": "markdown",
   "metadata": {
    "id": "lmUaZLD3QWVP"
   },
   "source": [
    "**Spark SQL**\n",
    "  "
   ]
  },
  {
   "cell_type": "code",
   "execution_count": null,
   "metadata": {
    "id": "iPTR1RXvQSb7"
   },
   "outputs": [],
   "source": [
    "# antes de usar as query de fato, temos que criar uma view da tabela que estamos trabalhando\n",
    "empresas.createOrReplaceTempView(\"empresasView\")"
   ]
  },
  {
   "cell_type": "code",
   "execution_count": null,
   "metadata": {
    "colab": {
     "base_uri": "https://localhost:8080/"
    },
    "id": "YtOdF1XtQoDQ",
    "outputId": "bbd375fd-90a7-43b7-9b5d-1091fc3ea8a6"
   },
   "outputs": [
    {
     "name": "stdout",
     "output_type": "stream",
     "text": [
      "+-----------+-----------------------------+-----------------+---------------------------+-------------------------+----------------+---------------------------+\n",
      "|cnpj_basico|razao_social_nome_empresarial|natureza_juridica|qualificacao_do_responsavel|capital_social_da_empresa|porte_da_empresa|ente_federativo_responsavel|\n",
      "+-----------+-----------------------------+-----------------+---------------------------+-------------------------+----------------+---------------------------+\n",
      "|        306|         FRANCAMAR REFRIGE...|             2240|                         49|                      0.0|               1|                       null|\n",
      "|       1355|         BRASILEIRO & OLIV...|             2062|                         49|                      0.0|               5|                       null|\n",
      "|       4820|         REGISTRO DE IMOVE...|             3034|                         32|                      0.0|               5|                       null|\n",
      "|       5347|         ROSELY APARECIDA ...|             2135|                         50|                      0.0|               5|                       null|\n",
      "|       6846|         BADU E FILHOS TEC...|             2062|                         49|                   4000.0|               1|                       null|\n",
      "+-----------+-----------------------------+-----------------+---------------------------+-------------------------+----------------+---------------------------+\n",
      "only showing top 5 rows\n",
      "\n"
     ]
    }
   ],
   "source": [
    "spark.sql(\"SELECT * FROM empresasView\").show(5)"
   ]
  },
  {
   "cell_type": "code",
   "execution_count": null,
   "metadata": {
    "colab": {
     "base_uri": "https://localhost:8080/"
    },
    "id": "XQ0V8XqBQ1_f",
    "outputId": "2854d75e-632c-4547-a62a-251447e71c9b"
   },
   "outputs": [
    {
     "name": "stdout",
     "output_type": "stream",
     "text": [
      "+-----------+-----------------------------+-----------------+---------------------------+-------------------------+----------------+---------------------------+\n",
      "|cnpj_basico|razao_social_nome_empresarial|natureza_juridica|qualificacao_do_responsavel|capital_social_da_empresa|porte_da_empresa|ente_federativo_responsavel|\n",
      "+-----------+-----------------------------+-----------------+---------------------------+-------------------------+----------------+---------------------------+\n",
      "|   17350147|         ERIK MARCELO DOS ...|             2135|                         50|                     50.0|               1|                       null|\n",
      "|   17833214|         ALEXANDRE MACHADO...|             2135|                         50|                     50.0|               1|                       null|\n",
      "|   20860830|         YASMIN MOURA DA F...|             2135|                         50|                     50.0|               1|                       null|\n",
      "|   22242856|         JOAO CESAR MESSIA...|             2135|                         50|                     50.0|               1|                       null|\n",
      "|   23238540|         EVERTON ROBERTO D...|             2135|                         50|                     50.0|               1|                       null|\n",
      "+-----------+-----------------------------+-----------------+---------------------------+-------------------------+----------------+---------------------------+\n",
      "only showing top 5 rows\n",
      "\n"
     ]
    }
   ],
   "source": [
    "spark.sql(\"\"\"\n",
    "            SELECT * \n",
    "            FROM empresasView \n",
    "            WHERE capital_social_da_empresa = 50 \"\"\")\\\n",
    "    .show(5)"
   ]
  },
  {
   "cell_type": "code",
   "execution_count": null,
   "metadata": {
    "colab": {
     "base_uri": "https://localhost:8080/"
    },
    "id": "yHRHshjYTRSS",
    "outputId": "aa16c1c0-529a-4c74-f5e8-ca0169a6b29e"
   },
   "outputs": [
    {
     "name": "stdout",
     "output_type": "stream",
     "text": [
      "+----------------+------------------+\n",
      "|porte_da_empresa|             Media|\n",
      "+----------------+------------------+\n",
      "|            null|  8.35421888053467|\n",
      "|               1|339994.53313506936|\n",
      "|               3|2601001.7677092673|\n",
      "|               5| 708660.4208249798|\n",
      "+----------------+------------------+\n",
      "\n"
     ]
    }
   ],
   "source": [
    "spark.sql(\"\"\"\n",
    "            SELECT porte_da_empresa, MEAN(capital_social_da_empresa) AS Media \n",
    "            FROM empresasView \n",
    "            GROUP BY porte_da_empresa \"\"\")\\\n",
    "    .show(5)"
   ]
  },
  {
   "cell_type": "code",
   "execution_count": null,
   "metadata": {
    "id": "dQPc3hL3TkYa"
   },
   "outputs": [],
   "source": [
    "empresas_join.createOrReplaceTempView(\"empresasJoinView\")"
   ]
  },
  {
   "cell_type": "code",
   "execution_count": null,
   "metadata": {
    "colab": {
     "base_uri": "https://localhost:8080/"
    },
    "id": "5PNvZN7cTs5q",
    "outputId": "6c12cd63-6a44-4931-f1b8-8b41f8929f85"
   },
   "outputs": [
    {
     "name": "stdout",
     "output_type": "stream",
     "text": [
      "+--------------+------+\n",
      "|data_de_inicio| count|\n",
      "+--------------+------+\n",
      "|          2010|154159|\n",
      "|          2011|172677|\n",
      "|          2012|232480|\n",
      "|          2013|198424|\n",
      "|          2014|202276|\n",
      "|          2015|212523|\n",
      "|          2016|265417|\n",
      "|          2017|237292|\n",
      "|          2018|275435|\n",
      "|          2019|325922|\n",
      "|          2020|400654|\n",
      "|          2021|153275|\n",
      "+--------------+------+\n",
      "\n"
     ]
    }
   ],
   "source": [
    "freq = spark.sql(\"\"\"\n",
    "                  SELECT YEAR(data_de_inicio_atividade) AS data_de_inicio, COUNT(cnpj_basico) AS count\n",
    "                  FROM empresasJoinView \n",
    "                  WHERE YEAR(data_de_inicio_atividade) >= 2010\n",
    "                  GROUP BY data_de_inicio\n",
    "                  ORDER BY data_de_inicio \"\"\")\n",
    "\n",
    "freq.show()"
   ]
  },
  {
   "cell_type": "code",
   "execution_count": null,
   "metadata": {
    "id": "M-xnBc5hUL92"
   },
   "outputs": [],
   "source": [
    "freq.createOrReplaceTempView(\"freqView\")"
   ]
  },
  {
   "cell_type": "code",
   "execution_count": null,
   "metadata": {
    "colab": {
     "base_uri": "https://localhost:8080/"
    },
    "id": "L7jrmtEuUP8o",
    "outputId": "734bebec-ae29-49b9-a794-a288494e5cb9"
   },
   "outputs": [
    {
     "name": "stdout",
     "output_type": "stream",
     "text": [
      "+--------------+-------+\n",
      "|data_de_inicio|  count|\n",
      "+--------------+-------+\n",
      "|          2010| 154159|\n",
      "|          2011| 172677|\n",
      "|          2012| 232480|\n",
      "|          2013| 198424|\n",
      "|          2014| 202276|\n",
      "|          2015| 212523|\n",
      "|          2016| 265417|\n",
      "|          2017| 237292|\n",
      "|          2018| 275435|\n",
      "|          2019| 325922|\n",
      "|          2020| 400654|\n",
      "|          2021| 153275|\n",
      "|         Total|2830534|\n",
      "+--------------+-------+\n",
      "\n"
     ]
    }
   ],
   "source": [
    "spark.sql(\"\"\"\n",
    "            SELECT * FROM freqView\n",
    "            UNION ALL\n",
    "            SELECT 'Total' AS data_de_inicio, SUM(count) AS count\n",
    "            FROM freqView \"\"\")\\\n",
    "    .show()"
   ]
  },
  {
   "cell_type": "markdown",
   "metadata": {
    "id": "CWrwE_W7kxAX"
   },
   "source": [
    " **Formas de Armazenamento**"
   ]
  },
  {
   "cell_type": "markdown",
   "metadata": {
    "id": "y0vXyPSXk6E2"
   },
   "source": [
    "  Arquivos CSV"
   ]
  },
  {
   "cell_type": "code",
   "execution_count": null,
   "metadata": {
    "id": "d6TOTGJAUi2X"
   },
   "outputs": [],
   "source": [
    "empresas.write.csv(\n",
    "    path='/content/drive/MyDrive/Colab Notebooks/CURSO_SPARK/empresas/csv',\n",
    "    mode='overwrite', #sobreescrever\n",
    "    sep=',',\n",
    "    header=True #salvar alteraçoes na tabela\n",
    ")"
   ]
  },
  {
   "cell_type": "code",
   "execution_count": null,
   "metadata": {
    "id": "a63dDucIpe2C"
   },
   "outputs": [],
   "source": [
    "# teste se é possivel ler o arquivo salvo\n",
    "empresas_2 = spark.read.csv(\n",
    "    '/content/drive/MyDrive/Colab Notebooks/CURSO_SPARK/empresas/csv',\n",
    "    sep = ',',\n",
    "    inferSchema=True,\n",
    "    header=True    \n",
    ")\n",
    "\n",
    "empresas_2.limit(10).toPandas()"
   ]
  },
  {
   "cell_type": "code",
   "execution_count": null,
   "metadata": {
    "colab": {
     "base_uri": "https://localhost:8080/"
    },
    "id": "AP9a1E1RqNso",
    "outputId": "5ff10430-9290-4a78-b143-8f43dcb969f6"
   },
   "outputs": [
    {
     "name": "stdout",
     "output_type": "stream",
     "text": [
      "root\n",
      " |-- cnpj_basico: integer (nullable = true)\n",
      " |-- razao_social_nome_empresarial: string (nullable = true)\n",
      " |-- natureza_juridica: integer (nullable = true)\n",
      " |-- qualificacao_do_responsavel: integer (nullable = true)\n",
      " |-- capital_social_da_empresa: double (nullable = true)\n",
      " |-- porte_da_empresa: integer (nullable = true)\n",
      " |-- ente_federativo_responsavel: string (nullable = true)\n",
      "\n"
     ]
    }
   ],
   "source": [
    "empresas_2.printSchema()"
   ]
  },
  {
   "cell_type": "code",
   "execution_count": null,
   "metadata": {
    "id": "zKNBccqmqP8r"
   },
   "outputs": [],
   "source": [
    "socios.write.csv(\n",
    "    path = '/content/drive/MyDrive/Colab Notebooks/CURSO_SPARK/socios/csv',\n",
    "    mode='overwrite',\n",
    "    sep = ',',\n",
    "    header = True\n",
    "                 )"
   ]
  },
  {
   "cell_type": "code",
   "execution_count": null,
   "metadata": {
    "colab": {
     "base_uri": "https://localhost:8080/"
    },
    "id": "hFveQxP1sIJ0",
    "outputId": "3c734173-be66-4909-ddb4-d55400910346"
   },
   "outputs": [
    {
     "name": "stdout",
     "output_type": "stream",
     "text": [
      "root\n",
      " |-- cnpj_basico: integer (nullable = true)\n",
      " |-- identificador_de_socio: integer (nullable = true)\n",
      " |-- nome_do_socio_ou_razao_social: string (nullable = true)\n",
      " |-- cnpj_ou_cpf_do_socio: string (nullable = true)\n",
      " |-- qualificacao_do_socio: integer (nullable = true)\n",
      " |-- data_de_entrada_sociedade: date (nullable = true)\n",
      " |-- pais: integer (nullable = true)\n",
      " |-- representante_legal: string (nullable = true)\n",
      " |-- nome_do_representante: string (nullable = true)\n",
      " |-- qualificacao_do_representante_legal: integer (nullable = true)\n",
      " |-- faixa_etaria: integer (nullable = true)\n",
      "\n"
     ]
    }
   ],
   "source": [
    "socios_2= spark.read.csv(\n",
    "    '/content/drive/MyDrive/Colab Notebooks/CURSO_SPARK/socios/csv',\n",
    "    sep = ',',\n",
    "    inferSchema = True,\n",
    "    header = True\n",
    ")\n",
    "\n",
    "socios.printSchema()"
   ]
  },
  {
   "cell_type": "code",
   "execution_count": null,
   "metadata": {
    "id": "Oj6OQwEnFssA"
   },
   "outputs": [],
   "source": [
    "spark.conf.set(\"spark.sql.legacy.csv.datetimeRebaseModeInWrite\", \"CORRECTED\")"
   ]
  },
  {
   "cell_type": "code",
   "execution_count": null,
   "metadata": {
    "id": "JYcUFmgOsWa5"
   },
   "outputs": [],
   "source": [
    "estabelecimentos.write.csv(\n",
    "    path = '/content/drive/MyDrive/Colab Notebooks/CURSO_SPARK/estabelecimentos/csv',\n",
    "    mode = 'overwrite',\n",
    "    sep = ',',\n",
    "    header = True,\n",
    "    \n",
    ")"
   ]
  },
  {
   "cell_type": "code",
   "execution_count": null,
   "metadata": {
    "colab": {
     "base_uri": "https://localhost:8080/"
    },
    "id": "-jnO2_dAtvBB",
    "outputId": "f8ab22d7-4d43-4310-d020-1db4fef5580e"
   },
   "outputs": [
    {
     "name": "stdout",
     "output_type": "stream",
     "text": [
      "root\n",
      " |-- cnpj_basico: integer (nullable = true)\n",
      " |-- cnpj_ordem: integer (nullable = true)\n",
      " |-- cnpj_dv: integer (nullable = true)\n",
      " |-- identificador_matriz_filial: integer (nullable = true)\n",
      " |-- nome_fantasia: string (nullable = true)\n",
      " |-- situacao_cadastral: integer (nullable = true)\n",
      " |-- data_situacao_cadastral: date (nullable = true)\n",
      " |-- motivo_situacao_cadastral: integer (nullable = true)\n",
      " |-- nome_da_cidade_no_exterior: string (nullable = true)\n",
      " |-- pais: integer (nullable = true)\n",
      " |-- data_de_inicio_atividade: date (nullable = true)\n",
      " |-- cnae_fiscal_principal: integer (nullable = true)\n",
      " |-- cnae_fiscal_secundaria: string (nullable = true)\n",
      " |-- tipo_de_logradouro: string (nullable = true)\n",
      " |-- logradouro: string (nullable = true)\n",
      " |-- numero: string (nullable = true)\n",
      " |-- complemento: string (nullable = true)\n",
      " |-- bairro: string (nullable = true)\n",
      " |-- cep: integer (nullable = true)\n",
      " |-- uf: string (nullable = true)\n",
      " |-- municipio: integer (nullable = true)\n",
      " |-- ddd_1: string (nullable = true)\n",
      " |-- telefone_1: string (nullable = true)\n",
      " |-- ddd_2: string (nullable = true)\n",
      " |-- telefone_2: string (nullable = true)\n",
      " |-- ddd_do_fax: integer (nullable = true)\n",
      " |-- fax: string (nullable = true)\n",
      " |-- correio_eletronico: string (nullable = true)\n",
      " |-- situacao_especial: string (nullable = true)\n",
      " |-- data_da_situacao_especial: date (nullable = true)\n",
      "\n"
     ]
    }
   ],
   "source": [
    "estabelecimentos.printSchema()"
   ]
  },
  {
   "cell_type": "code",
   "execution_count": null,
   "metadata": {
    "id": "kzwKnnBbszx3"
   },
   "outputs": [],
   "source": [
    "estabelecimentos_2 = spark.read.csv(\n",
    "    '/content/drive/MyDrive/Colab Notebooks/CURSO_SPARK/estabelecimentos/csv',\n",
    "    sep = ',',\n",
    "    inferSchema = True,\n",
    "    header = True\n",
    ")"
   ]
  },
  {
   "cell_type": "code",
   "execution_count": null,
   "metadata": {
    "colab": {
     "base_uri": "https://localhost:8080/"
    },
    "id": "WzEb0j6nxUQ-",
    "outputId": "06d2676c-f81e-4e05-efbb-9d959ab98c56"
   },
   "outputs": [
    {
     "name": "stdout",
     "output_type": "stream",
     "text": [
      "root\n",
      " |-- cnpj_basico: integer (nullable = true)\n",
      " |-- cnpj_ordem: integer (nullable = true)\n",
      " |-- cnpj_dv: integer (nullable = true)\n",
      " |-- identificador_matriz_filial: integer (nullable = true)\n",
      " |-- nome_fantasia: string (nullable = true)\n",
      " |-- situacao_cadastral: integer (nullable = true)\n",
      " |-- data_situacao_cadastral: string (nullable = true)\n",
      " |-- motivo_situacao_cadastral: integer (nullable = true)\n",
      " |-- nome_da_cidade_no_exterior: string (nullable = true)\n",
      " |-- pais: integer (nullable = true)\n",
      " |-- data_de_inicio_atividade: string (nullable = true)\n",
      " |-- cnae_fiscal_principal: integer (nullable = true)\n",
      " |-- cnae_fiscal_secundaria: string (nullable = true)\n",
      " |-- tipo_de_logradouro: string (nullable = true)\n",
      " |-- logradouro: string (nullable = true)\n",
      " |-- numero: string (nullable = true)\n",
      " |-- complemento: string (nullable = true)\n",
      " |-- bairro: string (nullable = true)\n",
      " |-- cep: integer (nullable = true)\n",
      " |-- uf: string (nullable = true)\n",
      " |-- municipio: integer (nullable = true)\n",
      " |-- ddd_1: string (nullable = true)\n",
      " |-- telefone_1: string (nullable = true)\n",
      " |-- ddd_2: string (nullable = true)\n",
      " |-- telefone_2: string (nullable = true)\n",
      " |-- ddd_do_fax: integer (nullable = true)\n",
      " |-- fax: string (nullable = true)\n",
      " |-- correio_eletronico: string (nullable = true)\n",
      " |-- situacao_especial: string (nullable = true)\n",
      " |-- data_da_situacao_especial: string (nullable = true)\n",
      "\n"
     ]
    }
   ],
   "source": [
    "estabelecimentos_2.printSchema()"
   ]
  },
  {
   "cell_type": "markdown",
   "metadata": {
    "id": "epnDI4AutZO1"
   },
   "source": [
    "**Arquivos PARQUET**"
   ]
  },
  {
   "cell_type": "code",
   "execution_count": null,
   "metadata": {
    "id": "kzj2TstftcL3"
   },
   "outputs": [],
   "source": [
    "empresas.write.parquet(\n",
    "    path='/content/drive/MyDrive/Colab Notebooks/CURSO_SPARK/empresas/parquet',\n",
    "    mode='overwrite'\n",
    ")"
   ]
  },
  {
   "cell_type": "code",
   "execution_count": null,
   "metadata": {
    "id": "6xS48TJ8x9D5"
   },
   "outputs": [],
   "source": [
    "empresas_parquet = spark.read.parquet(\n",
    "    '/content/drive/MyDrive/Colab Notebooks/CURSO_SPARK/empresas/parquet'\n",
    ")"
   ]
  },
  {
   "cell_type": "code",
   "execution_count": null,
   "metadata": {
    "colab": {
     "base_uri": "https://localhost:8080/"
    },
    "id": "Iy6InhX0yPze",
    "outputId": "6edb6a98-522e-45e3-98d3-5e4d24c4d9e9"
   },
   "outputs": [
    {
     "name": "stdout",
     "output_type": "stream",
     "text": [
      "root\n",
      " |-- cnpj_basico: integer (nullable = true)\n",
      " |-- razao_social_nome_empresarial: string (nullable = true)\n",
      " |-- natureza_juridica: integer (nullable = true)\n",
      " |-- qualificacao_do_responsavel: integer (nullable = true)\n",
      " |-- capital_social_da_empresa: double (nullable = true)\n",
      " |-- porte_da_empresa: integer (nullable = true)\n",
      " |-- ente_federativo_responsavel: string (nullable = true)\n",
      "\n"
     ]
    }
   ],
   "source": [
    "empresas_parquet.printSchema()"
   ]
  },
  {
   "cell_type": "code",
   "execution_count": null,
   "metadata": {
    "id": "IkPq4Lc-yeDN"
   },
   "outputs": [],
   "source": [
    "socios.write.parquet(\n",
    "    path='/content/drive/MyDrive/Colab Notebooks/CURSO_SPARK/socios/parquet',\n",
    "    mode='overwrite'\n",
    ")"
   ]
  },
  {
   "cell_type": "code",
   "execution_count": null,
   "metadata": {
    "id": "dn-DLQbDyjYH"
   },
   "outputs": [],
   "source": [
    "socios_parquet = spark.read.parquet(\n",
    "    '/content/drive/MyDrive/Colab Notebooks/CURSO_SPARK/socios/parquet'\n",
    ")"
   ]
  },
  {
   "cell_type": "code",
   "execution_count": null,
   "metadata": {
    "colab": {
     "base_uri": "https://localhost:8080/"
    },
    "id": "BIHk2gqDysvz",
    "outputId": "75f208c9-1a80-4249-fbb3-d4e55d16d6c0"
   },
   "outputs": [
    {
     "name": "stdout",
     "output_type": "stream",
     "text": [
      "root\n",
      " |-- cnpj_basico: integer (nullable = true)\n",
      " |-- identificador_de_socio: integer (nullable = true)\n",
      " |-- nome_do_socio_ou_razao_social: string (nullable = true)\n",
      " |-- cnpj_ou_cpf_do_socio: string (nullable = true)\n",
      " |-- qualificacao_do_socio: integer (nullable = true)\n",
      " |-- data_de_entrada_sociedade: date (nullable = true)\n",
      " |-- pais: integer (nullable = true)\n",
      " |-- representante_legal: string (nullable = true)\n",
      " |-- nome_do_representante: string (nullable = true)\n",
      " |-- qualificacao_do_representante_legal: integer (nullable = true)\n",
      " |-- faixa_etaria: integer (nullable = true)\n",
      "\n"
     ]
    }
   ],
   "source": [
    "socios_parquet.printSchema()"
   ]
  },
  {
   "cell_type": "code",
   "execution_count": null,
   "metadata": {
    "id": "DEvveOmuGXud"
   },
   "outputs": [],
   "source": [
    "estabelecimentos.write.parquet(\n",
    "    path='/content/drive/MyDrive/Colab Notebooks/CURSO_SPARK/estabelecimentos/parquet',\n",
    "    mode='overwrite'\n",
    ")"
   ]
  },
  {
   "cell_type": "code",
   "execution_count": null,
   "metadata": {
    "id": "G96haZR8GgWj"
   },
   "outputs": [],
   "source": [
    "estabelecimentos_parquet = spark.read.parquet(\n",
    "    '/content/drive/MyDrive/Colab Notebooks/CURSO_SPARK/estabelecimentos/parquet'\n",
    ")"
   ]
  },
  {
   "cell_type": "code",
   "execution_count": null,
   "metadata": {
    "colab": {
     "base_uri": "https://localhost:8080/"
    },
    "id": "IuYhKkvjGoyO",
    "outputId": "f7d056a7-d753-4c4b-a716-5e4780d0a0b7"
   },
   "outputs": [
    {
     "name": "stdout",
     "output_type": "stream",
     "text": [
      "root\n",
      " |-- cnpj_basico: integer (nullable = true)\n",
      " |-- cnpj_ordem: integer (nullable = true)\n",
      " |-- cnpj_dv: integer (nullable = true)\n",
      " |-- identificador_matriz_filial: integer (nullable = true)\n",
      " |-- nome_fantasia: string (nullable = true)\n",
      " |-- situacao_cadastral: integer (nullable = true)\n",
      " |-- data_situacao_cadastral: date (nullable = true)\n",
      " |-- motivo_situacao_cadastral: integer (nullable = true)\n",
      " |-- nome_da_cidade_no_exterior: string (nullable = true)\n",
      " |-- pais: integer (nullable = true)\n",
      " |-- data_de_inicio_atividade: date (nullable = true)\n",
      " |-- cnae_fiscal_principal: integer (nullable = true)\n",
      " |-- cnae_fiscal_secundaria: string (nullable = true)\n",
      " |-- tipo_de_logradouro: string (nullable = true)\n",
      " |-- logradouro: string (nullable = true)\n",
      " |-- numero: string (nullable = true)\n",
      " |-- complemento: string (nullable = true)\n",
      " |-- bairro: string (nullable = true)\n",
      " |-- cep: integer (nullable = true)\n",
      " |-- uf: string (nullable = true)\n",
      " |-- municipio: integer (nullable = true)\n",
      " |-- ddd_1: string (nullable = true)\n",
      " |-- telefone_1: string (nullable = true)\n",
      " |-- ddd_2: string (nullable = true)\n",
      " |-- telefone_2: string (nullable = true)\n",
      " |-- ddd_do_fax: integer (nullable = true)\n",
      " |-- fax: string (nullable = true)\n",
      " |-- correio_eletronico: string (nullable = true)\n",
      " |-- situacao_especial: string (nullable = true)\n",
      " |-- data_da_situacao_especial: date (nullable = true)\n",
      "\n"
     ]
    }
   ],
   "source": [
    "estabelecimentos_parquet.printSchema()"
   ]
  },
  {
   "cell_type": "markdown",
   "metadata": {
    "id": "uSWZAz2A1Na1"
   },
   "source": [
    "**PARTICIONAMENTO DOS DADOS**"
   ]
  },
  {
   "cell_type": "code",
   "execution_count": null,
   "metadata": {
    "id": "fHyMQW0e1PZv"
   },
   "outputs": [],
   "source": [
    "#partição unica, mais performatico em coalesce\n",
    "empresas.coalesce(1).write.csv(\n",
    "    path='/content/drive/MyDrive/Colab Notebooks/CURSO_SPARK/empresas/csv-unico',\n",
    "    mode='overwrite',\n",
    "    sep=';',\n",
    "    header = True\n",
    ")"
   ]
  },
  {
   "cell_type": "code",
   "execution_count": null,
   "metadata": {
    "id": "jJ9fY7riBRDl"
   },
   "outputs": [],
   "source": [
    "socios.coalesce(1).write.csv(\n",
    "    path='/content/drive/MyDrive/Colab Notebooks/CURSO_SPARK/socios/csv-unico',\n",
    "    mode='overwrite',\n",
    "    sep=';',\n",
    "    header = True\n",
    ")"
   ]
  },
  {
   "cell_type": "code",
   "execution_count": null,
   "metadata": {
    "id": "3yh3msAPBXUF"
   },
   "outputs": [],
   "source": [
    "estabelecimentos.coalesce(1).write.csv(\n",
    "    path='/content/drive/MyDrive/Colab Notebooks/CURSO_SPARK/estabelecimentos/csv-unico',\n",
    "    mode='overwrite',\n",
    "    sep=';',\n",
    "    header = True\n",
    ")"
   ]
  },
  {
   "cell_type": "code",
   "execution_count": null,
   "metadata": {
    "id": "QADtvRjjADtG"
   },
   "outputs": [],
   "source": [
    "# partiçoes baseadas pela coluna 'porte_da_empresa'\n",
    "empresas.write.parquet(\n",
    "    path='/content/drive/MyDrive/Colab Notebooks/CURSO_SPARK/empresas/parquet-partitionBy',\n",
    "    mode='overwrite',\n",
    "    partitionBy='porte_da_empresa'\n",
    ")"
   ]
  },
  {
   "cell_type": "code",
   "execution_count": null,
   "metadata": {
    "id": "gumAjMrEB3Of"
   },
   "outputs": [],
   "source": [
    "socios.write.parquet(\n",
    "    path='/content/drive/MyDrive/Colab Notebooks/CURSO_SPARK/socios/parquet-partitionBy',\n",
    "    mode='overwrite',\n",
    "    partitionBy='identificador_de_socio'\n",
    ")"
   ]
  },
  {
   "cell_type": "code",
   "execution_count": null,
   "metadata": {
    "id": "0g-CsSykEGPA"
   },
   "outputs": [],
   "source": [
    "spark.conf.set(\"spark.sql.legacy.parquet.datetimeRebaseModeInWrite\", \"CORRECTED\")"
   ]
  },
  {
   "cell_type": "code",
   "execution_count": null,
   "metadata": {
    "id": "PXZrkrt7CGlj"
   },
   "outputs": [],
   "source": [
    "estabelecimentos.write.parquet(\n",
    "    path='/content/drive/MyDrive/Colab Notebooks/CURSO_SPARK/estabelecimentos/parquet-partitionBy',\n",
    "    mode='overwrite',\n",
    "    partitionBy='uf'\n",
    ")"
   ]
  },
  {
   "cell_type": "code",
   "execution_count": null,
   "metadata": {
    "id": "LuBSgID4CVR2"
   },
   "outputs": [],
   "source": [
    "spark.stop()"
   ]
  }
 ],
 "metadata": {
  "colab": {
   "provenance": []
  },
  "gpuClass": "standard",
  "kernelspec": {
   "display_name": "Python 3 (ipykernel)",
   "language": "python",
   "name": "python3"
  },
  "language_info": {
   "codemirror_mode": {
    "name": "ipython",
    "version": 3
   },
   "file_extension": ".py",
   "mimetype": "text/x-python",
   "name": "python",
   "nbconvert_exporter": "python",
   "pygments_lexer": "ipython3",
   "version": "3.9.13"
  }
 },
 "nbformat": 4,
 "nbformat_minor": 1
}
